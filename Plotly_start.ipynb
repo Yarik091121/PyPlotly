{
 "cells": [
  {
   "cell_type": "code",
   "execution_count": null,
   "metadata": {},
   "outputs": [],
   "source": [
    "# ! pip install pandas \n",
    "# ! pip install dash"
   ]
  },
  {
   "cell_type": "markdown",
   "metadata": {},
   "source": [
    "# A Minimal Dash App"
   ]
  },
  {
   "cell_type": "code",
   "execution_count": 11,
   "metadata": {},
   "outputs": [
    {
     "data": {
      "text/html": [
       "\n",
       "        <iframe\n",
       "            width=\"100%\"\n",
       "            height=\"650\"\n",
       "            src=\"http://127.0.0.1:8050/\"\n",
       "            frameborder=\"0\"\n",
       "            allowfullscreen\n",
       "            \n",
       "        ></iframe>\n",
       "        "
      ],
      "text/plain": [
       "<IPython.lib.display.IFrame at 0x26022d18aa0>"
      ]
     },
     "metadata": {},
     "output_type": "display_data"
    }
   ],
   "source": [
    "from dash import Dash, html, dcc, callback, Output, Input\n",
    "import plotly.express as px\n",
    "import pandas as pd\n",
    "\n",
    "df = pd.read_csv('https://raw.githubusercontent.com/plotly/datasets/master/gapminder_unfiltered.csv')\n",
    "\n",
    "app = Dash()\n",
    "\n",
    "app.layout = [\n",
    "    html.H1(children='Title of Dash App', style={'textAlign':'center',\n",
    "                                                 'color': 'RoyalBlue', \n",
    "                                                 'background': 'white', \n",
    "                                                 'border-radius': '5px',\n",
    "                                                 'height': '50px'}),\n",
    "    dcc.Dropdown(df.country.unique(), 'Canada', id='dropdown-selection'),\n",
    "    dcc.Graph(id='graph-content')\n",
    "]\n",
    "\n",
    "@callback(\n",
    "    Output('graph-content', 'figure'),\n",
    "    Input('dropdown-selection', 'value')\n",
    ")\n",
    "def update_graph(value):\n",
    "    dff = df[df.country==value]\n",
    "    return px.line(dff, x='year', y='pop')\n",
    "\n",
    "if __name__ == '__main__':\n",
    "    app.run(debug=True)"
   ]
  },
  {
   "cell_type": "markdown",
   "metadata": {},
   "source": [
    "# Dash in 20 minutes"
   ]
  },
  {
   "cell_type": "markdown",
   "metadata": {},
   "source": [
    "### **Hello World**"
   ]
  },
  {
   "cell_type": "markdown",
   "metadata": {},
   "source": [
    "\n",
    "Создание и запуск приложения с помощью Dash может быть выполнено всего с помощью 5 строк кода.\n",
    "\n",
    "Откройте IDE Python на своем компьютере, создайте `app.py` файл с приведенным ниже кодом и установите Dash, если вы еще этого не сделали. Чтобы запустить приложение, введите в свой терминал команду `python app.py`. Затем перейдите по http-ссылке.\n",
    "\n",
    "В качестве альтернативы, с Dash 2.11 или более поздней версии, вы можете запустить это приложение и другие примеры из этой документации в записной книжке <span style=\"color: #8A2BE2;\">**Jupyter Notebook**</span>.\n",
    "\n",
    "Приведенный ниже код создает очень маленькое приложение Dash \"Hello World\"."
   ]
  },
  {
   "cell_type": "code",
   "execution_count": 15,
   "metadata": {},
   "outputs": [
    {
     "data": {
      "text/html": [
       "\n",
       "        <iframe\n",
       "            width=\"100%\"\n",
       "            height=\"650\"\n",
       "            src=\"http://127.0.0.1:8050/\"\n",
       "            frameborder=\"0\"\n",
       "            allowfullscreen\n",
       "            \n",
       "        ></iframe>\n",
       "        "
      ],
      "text/plain": [
       "<IPython.lib.display.IFrame at 0x26022e57ad0>"
      ]
     },
     "metadata": {},
     "output_type": "display_data"
    }
   ],
   "source": [
    "# Hellow World\n",
    "from dash import Dash, html\n",
    "\n",
    "app = Dash()\n",
    "\n",
    "app.layout = [html.Div(children='Hello World', style={'background': 'white'})]\n",
    "\n",
    "if __name__ == '__main__':\n",
    "    app.run(debug=True)"
   ]
  },
  {
   "cell_type": "markdown",
   "metadata": {},
   "source": [
    "### **Hello World: Code Breakdown** (Разбивка кода)"
   ]
  },
  {
   "cell_type": "markdown",
   "metadata": {},
   "source": [
    "```\n",
    "# Import packages\n",
    "from dash import Dash, html\n",
    "```"
   ]
  },
  {
   "cell_type": "markdown",
   "metadata": {},
   "source": [
    "* При создании приложений Dash вы почти всегда будете использовать приведенную выше инструкцию импорта. По мере создания более продвинутых приложений Dash вы будете импортировать больше пакетов."
   ]
  },
  {
   "cell_type": "markdown",
   "metadata": {},
   "source": [
    "```\n",
    "# Initialize the app\n",
    "app = Dash()\n",
    "```\n",
    "* Эта строка известна как конструктор Dash и отвечает за инициализацию вашего приложения. Она почти всегда одинакова для любого приложения Dash, которое вы создаете.\n",
    "\n",
    "```\n",
    "# App layout    (Макет приложения)\n",
    "app.layout = [html.Div(children='Hello World')]\n",
    "```\n",
    "* Макет приложения представляет компоненты приложения, которые будут отображаться в веб-браузере, и здесь представлен в виде `list`, хотя это также может быть компонент Dash. В этом примере в список был добавлен единственный компонент: `html.Div`. У Div есть несколько свойств, таких как дочерние элементы (`children`), которые мы используем для добавления текстового содержимого на страницу: \"Hello World\".\n",
    "\n",
    "```\n",
    "# Run the app\n",
    "if __name__ == '__main__':\n",
    "    app.run(debug=True)\n",
    "```\n",
    "* Эти строки предназначены для запуска вашего приложения, и они почти всегда одинаковы для любого приложения Dash, которое вы создаете."
   ]
  },
  {
   "cell_type": "markdown",
   "metadata": {},
   "source": [
    "### **Подключение к данным**"
   ]
  },
  {
   "cell_type": "markdown",
   "metadata": {},
   "source": [
    "Существует множество способов добавления данных в приложение: API, внешние базы данных, локальные файлы `.txt`, файлы JSON и многое другое. В этом примере мы выделим один из наиболее распространенных способов включения данных из таблицы CSV.\n",
    "\n",
    "Замените `app.py` код из предыдущего раздела кодом ниже."
   ]
  },
  {
   "cell_type": "code",
   "execution_count": 21,
   "metadata": {},
   "outputs": [
    {
     "data": {
      "text/html": [
       "\n",
       "        <iframe\n",
       "            width=\"100%\"\n",
       "            height=\"650\"\n",
       "            src=\"http://127.0.0.1:8050/\"\n",
       "            frameborder=\"0\"\n",
       "            allowfullscreen\n",
       "            \n",
       "        ></iframe>\n",
       "        "
      ],
      "text/plain": [
       "<IPython.lib.display.IFrame at 0x26022e2a330>"
      ]
     },
     "metadata": {},
     "output_type": "display_data"
    }
   ],
   "source": [
    "# Import packages\n",
    "from dash import Dash, html, dash_table\n",
    "import pandas as pd\n",
    "\n",
    "# Загружаем данные\n",
    "df = pd.read_csv('https://raw.githubusercontent.com/plotly/datasets/master/gapminder2007.csv')\n",
    "\n",
    "# Инициализируем приложение\n",
    "app = Dash()\n",
    "\n",
    "# Макет приложения\n",
    "app.layout = [\n",
    "    html.Div(children='My First App with Data', style={'background': 'white'}),\n",
    "    dash_table.DataTable(data=df.to_dict('records'), page_size=6)\n",
    "]\n",
    "\n",
    "# Run the app\n",
    "if __name__ == '__main__':\n",
    "    app.run(debug=True)"
   ]
  },
  {
   "cell_type": "markdown",
   "metadata": {},
   "source": [
    "### **Визуализация данных**"
   ]
  },
  {
   "cell_type": "markdown",
   "metadata": {},
   "source": [
    "Библиотека построения графиков Plotly предлагает на выбор более <span style=\"color: #8A2BE2;\">50 типов диаграмм</span>. В этом примере мы будем использовать диаграмму гистограммы.\n",
    "\n",
    "Замените код `app.py` из предыдущего раздела кодом, приведенным ниже."
   ]
  },
  {
   "cell_type": "code",
   "execution_count": null,
   "metadata": {},
   "outputs": [
    {
     "data": {
      "text/html": [
       "\n",
       "        <iframe\n",
       "            width=\"100%\"\n",
       "            height=\"650\"\n",
       "            src=\"http://127.0.0.1:8050/\"\n",
       "            frameborder=\"0\"\n",
       "            allowfullscreen\n",
       "            \n",
       "        ></iframe>\n",
       "        "
      ],
      "text/plain": [
       "<IPython.lib.display.IFrame at 0x260230a2a50>"
      ]
     },
     "metadata": {},
     "output_type": "display_data"
    }
   ],
   "source": [
    "# Import packages\n",
    "from dash import Dash, html, dash_table, dcc\n",
    "import pandas as pd\n",
    "import plotly.express as px\n",
    "\n",
    "# Incorporate data\n",
    "df = pd.read_csv('https://raw.githubusercontent.com/plotly/datasets/master/gapminder2007.csv')\n",
    "\n",
    "# Initialize the app\n",
    "app = Dash()\n",
    "\n",
    "# App layout\n",
    "app.layout = [\n",
    "    html.Div(children='My First App with Data and a Graph', style={'background': 'white'}),\n",
    "    # Табличка с кол-вом записей == 5\n",
    "    dash_table.DataTable(data=df.to_dict('records'), page_size=5),\n",
    "    # Графика -> гистограмма \n",
    "    dcc.Graph(figure=px.histogram(df, x='continent', y='lifeExp', histfunc='avg'))\n",
    "]\n",
    "\n",
    "# Run the app\n",
    "if __name__ == '__main__':\n",
    "    app.run(debug=True)\n"
   ]
  },
  {
   "cell_type": "markdown",
   "metadata": {},
   "source": [
    "* Мы импортируем модуль `dcc` (DCC расшифровывается как компоненты ядра Dash). Этот модуль включает графический компонент под названием `dcc.Graph`, который используется для отображения интерактивных графиков. \n",
    "* Мы также импортируем библиотеку `plotly.express` для построения интерактивных графиков."
   ]
  },
  {
   "cell_type": "markdown",
   "metadata": {},
   "source": [
    "### **Controls and Callbacks**"
   ]
  },
  {
   "cell_type": "markdown",
   "metadata": {},
   "source": [
    "На данный момент вы создали статическое приложение, которое отображает табличные данные и график. Однако по мере разработки более сложных приложений Dash вы, вероятно, захотите предоставить пользователю приложения больше свободы для взаимодействия с приложением и более глубокого изучения данных. Чтобы добиться этого, вам нужно будет добавить элементы управления в приложение с помощью функции обратного вызова.\n",
    "\n",
    "В этом примере мы добавим переключатели в макет приложения. Затем мы создадим обратный вызов для создания взаимодействия между переключателями и гистограммой."
   ]
  },
  {
   "cell_type": "code",
   "execution_count": 25,
   "metadata": {},
   "outputs": [
    {
     "data": {
      "text/html": [
       "\n",
       "        <iframe\n",
       "            width=\"100%\"\n",
       "            height=\"650\"\n",
       "            src=\"http://127.0.0.1:8050/\"\n",
       "            frameborder=\"0\"\n",
       "            allowfullscreen\n",
       "            \n",
       "        ></iframe>\n",
       "        "
      ],
      "text/plain": [
       "<IPython.lib.display.IFrame at 0x26022eb0d10>"
      ]
     },
     "metadata": {},
     "output_type": "display_data"
    }
   ],
   "source": [
    "# Import packages\n",
    "from dash import Dash, html, dash_table, dcc, callback, Output, Input\n",
    "import pandas as pd\n",
    "import plotly.express as px\n",
    "\n",
    "# Incorporate data\n",
    "df = pd.read_csv('https://raw.githubusercontent.com/plotly/datasets/master/gapminder2007.csv')\n",
    "\n",
    "# Initialize the app\n",
    "app = Dash()\n",
    "\n",
    "# App layout\n",
    "app.layout = [\n",
    "    html.Div(children='My First App with Data, Graph, and Controls', style={'background': 'white'}),\n",
    "    html.Hr(),\n",
    "    dcc.RadioItems(options=['pop', 'lifeExp', 'gdpPercap'], value='lifeExp', id='controls-and-radio-item', style={'background': 'white'}),\n",
    "    dash_table.DataTable(data=df.to_dict('records'), page_size=6),\n",
    "    dcc.Graph(figure={}, id='controls-and-graph')\n",
    "]\n",
    "\n",
    "# Add controls to build the interaction\n",
    "@callback(\n",
    "    Output(component_id='controls-and-graph', component_property='figure'),\n",
    "    Input(component_id='controls-and-radio-item', component_property='value')\n",
    ")\n",
    "def update_graph(col_chosen):\n",
    "    fig = px.histogram(df, x='continent', y=col_chosen, histfunc='avg')\n",
    "    return fig\n",
    "\n",
    "# Run the app\n",
    "if __name__ == '__main__':\n",
    "    app.run(debug=True)"
   ]
  },
  {
   "cell_type": "markdown",
   "metadata": {},
   "source": [
    "### **Стилизация приложения**"
   ]
  },
  {
   "cell_type": "markdown",
   "metadata": {},
   "source": [
    "В примерах в предыдущем разделе использовались компоненты Dash HTML для создания простого макета приложения, но вы можете придать своему приложению более профессиональный вид. В этом разделе будет дан краткий обзор множества инструментов, которые вы можете использовать для улучшения стиля оформления приложения Dash:\n",
    "* HTML и CSS\n",
    "* Dash Design Kit (DDK)\n",
    "* Dash Bootstrap Components\n",
    "* Dash Mantine Components"
   ]
  },
  {
   "cell_type": "markdown",
   "metadata": {},
   "source": [
    "### **HTML и CSS**"
   ]
  },
  {
   "cell_type": "markdown",
   "metadata": {},
   "source": [
    "HTML и CSS - это самый низкий уровень интерфейса для отображения контента в Интернете. HTML - это набор компонентов, а CSS - это набор стилей, применяемых к этим компонентам. Стили CSS могут применяться внутри компонентов с помощью свойства `style`, или они могут быть определены как отдельный файл CSS со ссылкой на свойство `className`, как в примере ниже."
   ]
  },
  {
   "cell_type": "code",
   "execution_count": 4,
   "metadata": {},
   "outputs": [
    {
     "data": {
      "text/html": [
       "\n",
       "        <iframe\n",
       "            width=\"100%\"\n",
       "            height=\"650\"\n",
       "            src=\"http://127.0.0.1:8050/\"\n",
       "            frameborder=\"0\"\n",
       "            allowfullscreen\n",
       "            \n",
       "        ></iframe>\n",
       "        "
      ],
      "text/plain": [
       "<IPython.lib.display.IFrame at 0x19f7e64c380>"
      ]
     },
     "metadata": {},
     "output_type": "display_data"
    }
   ],
   "source": [
    "# Import packages\n",
    "from dash import Dash, html, dash_table, dcc, callback, Output, Input\n",
    "import pandas as pd\n",
    "import plotly.express as px\n",
    "\n",
    "# Incorporate data\n",
    "df = pd.read_csv('https://raw.githubusercontent.com/plotly/datasets/master/gapminder2007.csv')\n",
    "\n",
    "# Initialize the app - incorporate css\n",
    "external_stylesheets = ['https://codepen.io/chriddyp/pen/bWLwgP.css']\n",
    "app = Dash(external_stylesheets=external_stylesheets)\n",
    "\n",
    "# App layout\n",
    "app.layout = [\n",
    "    html.Div(className='row', children='My First App with Data, Graph, and Controls',\n",
    "             style={'textAlign': 'center', 'color': 'blue', 'fontSize': 30}),\n",
    "\n",
    "    html.Div(className='row', children=[\n",
    "        dcc.RadioItems(options=['pop', 'lifeExp', 'gdpPercap'],\n",
    "                       value='lifeExp',\n",
    "                       inline=True,\n",
    "                       id='my-radio-buttons-final',\n",
    "                       style={'background': '#81D4FA'})\n",
    "    ]),\n",
    "\n",
    "    html.Div(className='row', children=[\n",
    "        html.Div(className='six columns', children=[\n",
    "            dash_table.DataTable(data=df.to_dict('records'), page_size=11, style_table={'overflowX': 'auto'})\n",
    "        ]),\n",
    "        html.Div(className='six columns', children=[\n",
    "            dcc.Graph(figure={}, id='histo-chart-final')\n",
    "        ])\n",
    "    ])\n",
    "]\n",
    "\n",
    "# Add controls to build the interaction\n",
    "@callback(\n",
    "    Output(component_id='histo-chart-final', component_property='figure'),\n",
    "    Input(component_id='my-radio-buttons-final', component_property='value')\n",
    ")\n",
    "def update_graph(col_chosen):\n",
    "    fig = px.histogram(df, x='continent', y=col_chosen, histfunc='avg')\n",
    "    return fig\n",
    "\n",
    "# Run the app\n",
    "if __name__ == '__main__':\n",
    "    app.run(debug=True)\n"
   ]
  },
  {
   "cell_type": "markdown",
   "metadata": {},
   "source": [
    "### **Dash Design Kit (DDK)**"
   ]
  },
  {
   "cell_type": "markdown",
   "metadata": {},
   "source": [
    "Dash Design Kit - это наш высокоуровневый фреймворк пользовательского интерфейса, специально созданный для Dash. С Dash Design Kit вам не нужно использовать HTML или CSS. Приложения по умолчанию адаптированы к мобильным устройствам, и все доступно для тематизации. Dash Design Kit лицензирован как часть Dash Enterprise и официально поддерживается Plotly.\n",
    "\n",
    "Вот пример того, что вы можете сделать с помощью Dash Design Kit (обратите внимание, что вы не сможете запустить этот пример без корпоративной лицензии Dash)."
   ]
  },
  {
   "cell_type": "code",
   "execution_count": null,
   "metadata": {},
   "outputs": [
    {
     "ename": "ModuleNotFoundError",
     "evalue": "No module named 'dash_design_kit'",
     "output_type": "error",
     "traceback": [
      "\u001b[1;31m---------------------------------------------------------------------------\u001b[0m",
      "\u001b[1;31mModuleNotFoundError\u001b[0m                       Traceback (most recent call last)",
      "Cell \u001b[1;32mIn[6], line 5\u001b[0m\n\u001b[0;32m      3\u001b[0m \u001b[38;5;28;01mimport\u001b[39;00m\u001b[38;5;250m \u001b[39m\u001b[38;5;21;01mpandas\u001b[39;00m\u001b[38;5;250m \u001b[39m\u001b[38;5;28;01mas\u001b[39;00m\u001b[38;5;250m \u001b[39m\u001b[38;5;21;01mpd\u001b[39;00m\n\u001b[0;32m      4\u001b[0m \u001b[38;5;28;01mimport\u001b[39;00m\u001b[38;5;250m \u001b[39m\u001b[38;5;21;01mplotly\u001b[39;00m\u001b[38;5;21;01m.\u001b[39;00m\u001b[38;5;21;01mexpress\u001b[39;00m\u001b[38;5;250m \u001b[39m\u001b[38;5;28;01mas\u001b[39;00m\u001b[38;5;250m \u001b[39m\u001b[38;5;21;01mpx\u001b[39;00m\n\u001b[1;32m----> 5\u001b[0m \u001b[38;5;28;01mimport\u001b[39;00m\u001b[38;5;250m \u001b[39m\u001b[38;5;21;01mdash_design_kit\u001b[39;00m\u001b[38;5;250m \u001b[39m\u001b[38;5;28;01mas\u001b[39;00m\u001b[38;5;250m \u001b[39m\u001b[38;5;21;01mddk\u001b[39;00m\n\u001b[0;32m      7\u001b[0m \u001b[38;5;66;03m# Incorporate data\u001b[39;00m\n\u001b[0;32m      8\u001b[0m df \u001b[38;5;241m=\u001b[39m pd\u001b[38;5;241m.\u001b[39mread_csv(\u001b[38;5;124m'\u001b[39m\u001b[38;5;124mhttps://raw.githubusercontent.com/plotly/datasets/master/gapminder2007.csv\u001b[39m\u001b[38;5;124m'\u001b[39m)\n",
      "\u001b[1;31mModuleNotFoundError\u001b[0m: No module named 'dash_design_kit'"
     ]
    }
   ],
   "source": [
    "# Import packages\n",
    "from dash import Dash, html, dash_table, dcc, callback, Output, Input\n",
    "import pandas as pd\n",
    "import plotly.express as px\n",
    "import dash_design_kit as ddk\n",
    "\n",
    "# Incorporate data\n",
    "df = pd.read_csv('https://raw.githubusercontent.com/plotly/datasets/master/gapminder2007.csv')\n",
    "\n",
    "# Initialize the app\n",
    "app = Dash()\n",
    "\n",
    "# App layout\n",
    "app.layout = ddk.App([\n",
    "    ddk.Header(ddk.Title('My First App with Data, Graph, and Controls')),\n",
    "    dcc.RadioItems(options=['pop', 'lifeExp', 'gdpPercap'],\n",
    "                    value='lifeExp',\n",
    "                    inline=True,\n",
    "                    id='my-ddk-radio-items-final'),\n",
    "    ddk.Row([\n",
    "        ddk.Card([\n",
    "            dash_table.DataTable(data=df.to_dict('records'), page_size=12, style_table={'overflowX': 'auto'})\n",
    "        ], width=50),\n",
    "        ddk.Card([\n",
    "            ddk.Graph(figure={}, id='graph-placeholder-ddk-final')\n",
    "        ], width=50),\n",
    "    ]),\n",
    "\n",
    "])\n",
    "\n",
    "# Add controls to build the interaction\n",
    "@callback(\n",
    "    Output(component_id='graph-placeholder-ddk-final', component_property='figure'),\n",
    "    Input(component_id='my-ddk-radio-items-final', component_property='value')\n",
    ")\n",
    "def update_graph(col_chosen):\n",
    "    fig = px.histogram(df, x='continent', y=col_chosen, histfunc='avg')\n",
    "    return fig\n",
    "\n",
    "# Run the app\n",
    "if __name__ == '__main__':\n",
    "    app.run(debug=True)"
   ]
  },
  {
   "cell_type": "markdown",
   "metadata": {},
   "source": [
    "### **Dash Bootstrap Components**"
   ]
  },
  {
   "cell_type": "markdown",
   "metadata": {},
   "source": [
    "Dash Bootstrap - это поддерживаемая сообществом библиотека, созданная на основе системы компонентов bootstrap. Хотя она официально не поддерживается Plotly, Dash Bootstrap - это мощный способ создания элегантных макетов приложений. Обратите внимание, что сначала мы определяем строку, а затем ширину столбцов внутри строки, используя компоненты `dbc.Row` и `dbc.Col`.\n",
    "\n",
    "Чтобы приведенное ниже приложение успешно запустилось, обязательно установите библиотеку компонентов начальной загрузки Dash: `pip install dash-bootstrap-components`."
   ]
  },
  {
   "cell_type": "code",
   "execution_count": null,
   "metadata": {},
   "outputs": [],
   "source": [
    "! pip install dash-bootstrap-components"
   ]
  },
  {
   "cell_type": "code",
   "execution_count": null,
   "metadata": {},
   "outputs": [
    {
     "data": {
      "text/html": [
       "\n",
       "        <iframe\n",
       "            width=\"100%\"\n",
       "            height=\"650\"\n",
       "            src=\"http://127.0.0.1:8050/\"\n",
       "            frameborder=\"0\"\n",
       "            allowfullscreen\n",
       "            \n",
       "        ></iframe>\n",
       "        "
      ],
      "text/plain": [
       "<IPython.lib.display.IFrame at 0x19f7e77d1c0>"
      ]
     },
     "metadata": {},
     "output_type": "display_data"
    }
   ],
   "source": [
    "# Import packages\n",
    "from dash import Dash, html, dash_table, dcc, callback, Output, Input\n",
    "import pandas as pd\n",
    "import plotly.express as px\n",
    "import dash_bootstrap_components as dbc\n",
    "\n",
    "# Incorporate data\n",
    "df = pd.read_csv('https://raw.githubusercontent.com/plotly/datasets/master/gapminder2007.csv')\n",
    "\n",
    "# Initialize the app - incorporate a Dash Bootstrap theme\n",
    "external_stylesheets = [dbc.themes.CERULEAN]\n",
    "app = Dash(__name__, external_stylesheets=external_stylesheets)\n",
    "\n",
    "# App layout\n",
    "app.layout = dbc.Container([\n",
    "    dbc.Row([\n",
    "        html.Div('My First App with Data, Graph, and Controls', className=\"text-primary text-center fs-3\")\n",
    "    ]),\n",
    "\n",
    "    dbc.Row([\n",
    "        dbc.RadioItems(options=[{\"label\": x, \"value\": x} for x in ['pop', 'lifeExp', 'gdpPercap']],\n",
    "                       value='lifeExp',\n",
    "                       inline=True,\n",
    "                       id='radio-buttons-final')\n",
    "    ]),\n",
    "\n",
    "    dbc.Row([\n",
    "        dbc.Col([\n",
    "            dash_table.DataTable(data=df.to_dict('records'), page_size=12, style_table={'overflowX': 'auto'})\n",
    "        ], width=6),\n",
    "\n",
    "        dbc.Col([\n",
    "            dcc.Graph(figure={}, id='my-first-graph-final')\n",
    "        ], width=6),\n",
    "    ]),\n",
    "\n",
    "], fluid=True)\n",
    "\n",
    "# Add controls to build the interaction\n",
    "@callback(\n",
    "    Output(component_id='my-first-graph-final', component_property='figure'),\n",
    "    Input(component_id='radio-buttons-final', component_property='value')\n",
    ")\n",
    "def update_graph(col_chosen):\n",
    "    fig = px.histogram(df, x='continent', y=col_chosen, histfunc='avg')\n",
    "    return fig\n",
    "\n",
    "# Run the app\n",
    "if __name__ == '__main__':\n",
    "    app.run(debug=True)"
   ]
  },
  {
   "cell_type": "markdown",
   "metadata": {},
   "source": [
    "# Dash Fundamentals (layout, callbacks, interactive graphing, sharing data between callbacks)"
   ]
  },
  {
   "cell_type": "markdown",
   "metadata": {},
   "source": [
    "## **Part 1.** Dash Layout (Расположение панели)"
   ]
  },
  {
   "cell_type": "markdown",
   "metadata": {},
   "source": [
    "В этом руководстве вы познакомитесь с фундаментальным аспектом Dash apps, макетом приложения, а также с шестью автономными приложениями.\n",
    "\n",
    "Для производственных приложений Dash мы рекомендуем стилизовать макет приложения с помощью Dash Enterprise Design Kit.\n",
    "\n",
    "---------------\n",
    "Приложения Dash состоят из двух частей. Первая часть - это \"макет\", который описывает, как выглядит приложение. Вторая часть описывает интерактивность приложения и будет рассмотрена в следующей главе.\n",
    "\n",
    "Примечание: В этой документации каждый пример кода на Python можно запустить, либо сохранив его в файл `app.py` и используя `python app.py`, либо запустив его в ячейке Jupyter notebook."
   ]
  },
  {
   "cell_type": "markdown",
   "metadata": {},
   "source": [
    "### Просто код - Hello World"
   ]
  },
  {
   "cell_type": "code",
   "execution_count": 24,
   "metadata": {},
   "outputs": [
    {
     "data": {
      "text/html": [
       "\n",
       "        <iframe\n",
       "            width=\"100%\"\n",
       "            height=\"650\"\n",
       "            src=\"http://127.0.0.1:8050/\"\n",
       "            frameborder=\"0\"\n",
       "            allowfullscreen\n",
       "            \n",
       "        ></iframe>\n",
       "        "
      ],
      "text/plain": [
       "<IPython.lib.display.IFrame at 0x19f0015e1b0>"
      ]
     },
     "metadata": {},
     "output_type": "display_data"
    }
   ],
   "source": [
    "# Run this app with `python app.py` and\n",
    "# visit http://127.0.0.1:8050/ in your web browser.\n",
    "\n",
    "from dash import Dash, html, dcc\n",
    "import plotly.express as px\n",
    "import pandas as pd\n",
    "\n",
    "app = Dash()\n",
    "\n",
    "# assume you have a \"long-form\" data frame\n",
    "# see https://plotly.com/python/px-arguments/ for more options\n",
    "df = pd.DataFrame({\n",
    "    \"Fruit\": [\"Apples\", \"Oranges\", \"Bananas\", \"Apples\", \"Oranges\", \"Bananas\"],\n",
    "    \"Amount\": [4, 1, 2, 2, 4, 5],\n",
    "    \"City\": [\"SF\", \"SF\", \"SF\", \"Montreal\", \"Montreal\", \"Montreal\"]\n",
    "})\n",
    "\n",
    "fig = px.bar(df, x=\"Fruit\", y=\"Amount\", color=\"City\", barmode=\"group\")\n",
    "\n",
    "app.layout = html.Div(children=[\n",
    "    html.H1(children='Hello Dash', style={'background': 'white'}),\n",
    "\n",
    "    html.Div(children='''\n",
    "        Dash: A web application framework for your data.\n",
    "    ''', style={'background': 'white'}),\n",
    "\n",
    "    dcc.Graph(\n",
    "        id='example-graph',\n",
    "        figure=fig\n",
    "    )\n",
    "])\n",
    "\n",
    "if __name__ == '__main__':\n",
    "    app.run(debug=True)"
   ]
  },
  {
   "cell_type": "markdown",
   "metadata": {},
   "source": [
    "Примечание:\n",
    "* `layout` состоит из дерева компонентов, таких как `html.Div` и `dcc.Graph`\n",
    "* Dash HTML модуль (dash.html) содержит компоненту для любого HTML тэга. `html.H1(children='Hello Dash')` генерирует HTML-документ `<h1>Hello Dash</h1>` в вашем приложении.\n",
    "* Не все компоненты являются чистым HTML. Модуль компонентов ядра Dash (dash.dcc) содержит компоненты более высокого уровня, которые являются интерактивными и создаются с помощью JavaScript, HTML и CSS с помощью библиотеки React.js.\n",
    "* Каждый компонент полностью описывается с помощью атрибутов ключевых слов. Dash носит декларативный характер: в первую очередь вы будете описывать свое приложение с помощью этих атрибутов.\n",
    "* Свойство `children` является особым. По соглашению, это всегда первый атрибут, что означает, что вы можете его опустить: `html.H1(children= 'Hello Dash')` - это то же самое, что и `html.H1 ('Hello Dash')`. Он может содержать строку, число, отдельный компонент или список компонентов.\n",
    "* Шрифты в вашем приложении будут выглядеть немного иначе, чем показано здесь. В этом приложении используется пользовательская таблица стилей CSS и Dash Enterprise Design Kit для изменения стилей элементов по умолчанию. Вы можете узнать больше о пользовательском CSS в руководстве по CSS."
   ]
  },
  {
   "cell_type": "markdown",
   "metadata": {},
   "source": [
    "Dash включает \"горячую перезагрузку\". Эта функция активируется по умолчанию при запуске приложения с `app.run(debug=True)`. Это означает, что Dash автоматически обновит ваш браузер, когда вы внесете изменения в свой код."
   ]
  },
  {
   "cell_type": "markdown",
   "metadata": {},
   "source": [
    "### **More about HTML Components**"
   ]
  },
  {
   "cell_type": "markdown",
   "metadata": {},
   "source": [
    "Компоненты Dash HTML (`dash.html`) содержат класс компонента для каждого тега HTML, а также аргументы ключевого слова для всех аргументов HTML.\n",
    "\n",
    "Давайте настроим текст в нашем приложении, изменив встроенные стили компонентов. Создайте файл с именем `app.py` с помощью следующего кода:"
   ]
  },
  {
   "cell_type": "code",
   "execution_count": 17,
   "metadata": {},
   "outputs": [
    {
     "data": {
      "text/html": [
       "\n",
       "        <iframe\n",
       "            width=\"100%\"\n",
       "            height=\"650\"\n",
       "            src=\"http://127.0.0.1:8050/\"\n",
       "            frameborder=\"0\"\n",
       "            allowfullscreen\n",
       "            \n",
       "        ></iframe>\n",
       "        "
      ],
      "text/plain": [
       "<IPython.lib.display.IFrame at 0x19f00144500>"
      ]
     },
     "metadata": {},
     "output_type": "display_data"
    }
   ],
   "source": [
    "# Run this app with `python app.py` and\n",
    "# visit http://127.0.0.1:8050/ in your web browser.\n",
    "\n",
    "\n",
    "from dash import Dash, dcc, html\n",
    "import plotly.express as px\n",
    "import pandas as pd\n",
    "\n",
    "app = Dash()\n",
    "\n",
    "colors = {\n",
    "    'background': '#111111',\n",
    "    'text': '#7FDBFF'\n",
    "}\n",
    "\n",
    "# assume you have a \"long-form\" data frame\n",
    "# see https://plotly.com/python/px-arguments/ for more options\n",
    "df = pd.DataFrame({\n",
    "    \"Fruit\": [\"Apples\", \"Oranges\", \"Bananas\", \"Apples\", \"Oranges\", \"Bananas\"],\n",
    "    \"Amount\": [4, 1, 2, 2, 4, 5],\n",
    "    \"City\": [\"SF\", \"SF\", \"SF\", \"Montreal\", \"Montreal\", \"Montreal\"]\n",
    "})\n",
    "\n",
    "fig = px.bar(df, x=\"Fruit\", y=\"Amount\", color=\"City\", barmode=\"group\")\n",
    "\n",
    "fig.update_layout(\n",
    "    plot_bgcolor=colors['background'],      # Пространство внутри графика\n",
    "    paper_bgcolor=colors['background'],     # Пространство снаружи графика\n",
    "    font_color=colors['text']\n",
    ")\n",
    "\n",
    "app.layout = html.Div(style={'backgroundColor': colors['background']}, children=[\n",
    "    html.H1(\n",
    "        children='Hello Dash',\n",
    "        style={\n",
    "            'textAlign': 'center',\n",
    "            'color': colors['text']\n",
    "        }\n",
    "    ),\n",
    "\n",
    "    html.Div(children='Dash: A web application framework for your data.', style={\n",
    "        'textAlign': 'center',\n",
    "        'color': colors['text']\n",
    "    }),\n",
    "\n",
    "    dcc.Graph(\n",
    "        id='example-graph-2',\n",
    "        figure=fig\n",
    "    )\n",
    "])\n",
    "\n",
    "if __name__ == '__main__':\n",
    "    app.run(debug=True)"
   ]
  },
  {
   "cell_type": "markdown",
   "metadata": {},
   "source": [
    "В этом примере мы изменили встроенные стили компонентов `html.Div` и `html.H1` с помощью свойства `style`."
   ]
  },
  {
   "cell_type": "markdown",
   "metadata": {},
   "source": [
    "`html.H1('Hello Dash', style={'textAlign': 'center', 'color': '#7FDBFF'})`"
   ]
  },
  {
   "cell_type": "markdown",
   "metadata": {},
   "source": [
    "### **Компоненты многоразового использования (Reusable Components)**"
   ]
  },
  {
   "cell_type": "markdown",
   "metadata": {},
   "source": [
    "Написав нашу разметку на Python, мы можем создавать сложные повторно используемые компоненты, такие как таблицы, без переключения контекстов или языков.\n",
    "\n",
    "Вот краткий пример, который генерирует `таблицу` из фрейма данных Pandas. Создайте файл с именем `app.py` с помощью следующего кода:"
   ]
  },
  {
   "cell_type": "code",
   "execution_count": 21,
   "metadata": {},
   "outputs": [
    {
     "data": {
      "text/html": [
       "\n",
       "        <iframe\n",
       "            width=\"100%\"\n",
       "            height=\"650\"\n",
       "            src=\"http://127.0.0.1:8050/\"\n",
       "            frameborder=\"0\"\n",
       "            allowfullscreen\n",
       "            \n",
       "        ></iframe>\n",
       "        "
      ],
      "text/plain": [
       "<IPython.lib.display.IFrame at 0x19f0005c950>"
      ]
     },
     "metadata": {},
     "output_type": "display_data"
    }
   ],
   "source": [
    "# Run this app with `python app.py` and\n",
    "# visit http://127.0.0.1:8050/ in your web browser.\n",
    "\n",
    "\n",
    "from dash import Dash, html\n",
    "import pandas as pd\n",
    "\n",
    "df = pd.read_csv('https://gist.githubusercontent.com/chriddyp/c78bf172206ce24f77d6363a2d754b59/raw/c353e8ef842413cae56ae3920b8fd78468aa4cb2/usa-agricultural-exports-2011.csv')\n",
    "\n",
    "\n",
    "def generate_table(dataframe, max_rows=10):\n",
    "    return html.Table([\n",
    "        html.Thead(\n",
    "            html.Tr([html.Th(col) for col in dataframe.columns])\n",
    "        ),\n",
    "        html.Tbody([\n",
    "            html.Tr([\n",
    "                html.Td(dataframe.iloc[i][col]) for col in dataframe.columns\n",
    "            ]) for i in range(min(len(dataframe), max_rows))\n",
    "        ])\n",
    "    ])\n",
    "\n",
    "\n",
    "app = Dash()\n",
    "\n",
    "app.layout = html.Div([\n",
    "    html.H4(children='US Agriculture Exports (2011)'),\n",
    "    generate_table(df)\n",
    "], style={'backgroundColor': '#111111', 'color': '#7FDBFF'})\n",
    "\n",
    "if __name__ == '__main__':\n",
    "    app.run(debug=True)"
   ]
  },
  {
   "cell_type": "markdown",
   "metadata": {},
   "source": [
    "### **Подробнее о визуализации (More about Visualization)**"
   ]
  },
  {
   "cell_type": "markdown",
   "metadata": {},
   "source": [
    "Модуль компонентов ядра Dash (`dash.dcc`) включает в себя компонент под названием `Graph`.\n",
    "\n",
    "`Graph` визуализация интерактивных данных с использованием открытого исходного кода <span style=\"color:violet\">plotly.js</span> Библиотека построения графиков JavaScript. Plotly.js поддерживает более 35 типов диаграмм и визуализирует диаграммы как в формате SVG векторного качества, так и в высокопроизводительном WebGL.\n",
    "\n",
    "Аргумент `figure` в компоненте `Graph` - это тот же аргумент `figure`, который используется `plotly.py`, библиотекой построения графиков Python с открытым исходным кодом Plotly. Ознакомьтесь с <span style=\"color:violet\">документацией plotly.py и галереей</span>, чтобы узнать больше.\n",
    "\n",
    "Вот пример, который создает точечную диаграмму из фрейма данных Pandas. Создайте файл с именем app.py со следующим кодом:"
   ]
  },
  {
   "cell_type": "code",
   "execution_count": 23,
   "metadata": {},
   "outputs": [
    {
     "data": {
      "text/html": [
       "\n",
       "        <iframe\n",
       "            width=\"100%\"\n",
       "            height=\"650\"\n",
       "            src=\"http://127.0.0.1:8050/\"\n",
       "            frameborder=\"0\"\n",
       "            allowfullscreen\n",
       "            \n",
       "        ></iframe>\n",
       "        "
      ],
      "text/plain": [
       "<IPython.lib.display.IFrame at 0x19f0015e1b0>"
      ]
     },
     "metadata": {},
     "output_type": "display_data"
    }
   ],
   "source": [
    "# Run this app with `python app.py` and\n",
    "# visit http://127.0.0.1:8050/ in your web browser.\n",
    "\n",
    "from dash import Dash, dcc, html\n",
    "import plotly.express as px\n",
    "import pandas as pd\n",
    "\n",
    "\n",
    "app = Dash()\n",
    "\n",
    "df = pd.read_csv('https://gist.githubusercontent.com/chriddyp/5d1ea79569ed194d432e56108a04d188/raw/a9f9e8076b837d541398e999dcbac2b2826a81f8/gdp-life-exp-2007.csv')\n",
    "\n",
    "fig = px.scatter(df, x=\"gdp per capita\", y=\"life expectancy\",\n",
    "                 size=\"population\", color=\"continent\", hover_name=\"country\",\n",
    "                 log_x=True, size_max=60)\n",
    "\n",
    "app.layout = html.Div([\n",
    "    dcc.Graph(\n",
    "        id='life-exp-vs-gdp',\n",
    "        figure=fig\n",
    "    )\n",
    "])\n",
    "\n",
    "if __name__ == '__main__':\n",
    "    app.run(debug=True)"
   ]
  },
  {
   "cell_type": "markdown",
   "metadata": {},
   "source": [
    "Эти графики интерактивны и реагируют на запросы. *Наведите* указатель мыши на точки, чтобы увидеть их значения, *щелкните* элементы условных обозначений, чтобы переключать трассировки, *щелкните и перетащите*, чтобы увеличить масштаб, *удерживайте нажатой клавишу Shift*, а также щелкните и перетащите для панорамирования."
   ]
  },
  {
   "cell_type": "markdown",
   "metadata": {},
   "source": [
    "### **Markdown**"
   ]
  },
  {
   "cell_type": "markdown",
   "metadata": {},
   "source": [
    "В то время как Dash предоставляет доступ к HTML через HTML-компоненты Dash (`dash.html`), писать свою копию в HTML может быть утомительно. Для записи блоков текста можно использовать компонент `Markdown` в компонентах ядра Dash (`dash.dcc`). Создайте файл с именем `app.py` со следующим кодом:"
   ]
  },
  {
   "cell_type": "code",
   "execution_count": 30,
   "metadata": {},
   "outputs": [
    {
     "data": {
      "text/html": [
       "\n",
       "        <iframe\n",
       "            width=\"100%\"\n",
       "            height=\"650\"\n",
       "            src=\"http://127.0.0.1:8050/\"\n",
       "            frameborder=\"0\"\n",
       "            allowfullscreen\n",
       "            \n",
       "        ></iframe>\n",
       "        "
      ],
      "text/plain": [
       "<IPython.lib.display.IFrame at 0x19f00a751c0>"
      ]
     },
     "metadata": {},
     "output_type": "display_data"
    }
   ],
   "source": [
    "# Run this app with `python app.py` and\n",
    "# visit http://127.0.0.1:8050/ in your web browser.\n",
    "\n",
    "\n",
    "from dash import Dash, html, dcc\n",
    "\n",
    "app = Dash()\n",
    "\n",
    "markdown_text = '''\n",
    "### Dash and Markdown\n",
    "\n",
    "Dash apps can be written in Markdown.\n",
    "Dash uses the [CommonMark](http://commonmark.org/)\n",
    "specification of Markdown.\n",
    "Check out their [60 Second Markdown Tutorial](http://commonmark.org/help/)\n",
    "if this is your first introduction to Markdown!\n",
    "'''\n",
    "\n",
    "app.layout = html.Div([\n",
    "    dcc.Markdown(children=markdown_text, style={'backgroundColor': 'white', 'borderRadius': '3px'})\n",
    "])\n",
    "\n",
    "if __name__ == '__main__':\n",
    "    app.run(debug=False)"
   ]
  },
  {
   "cell_type": "markdown",
   "metadata": {},
   "source": [
    "### **Core Components (Основные компоненты)**"
   ]
  },
  {
   "cell_type": "markdown",
   "metadata": {},
   "source": [
    "Компоненты ядра Dash (`dash.dcc`) включают в себя набор компонентов более высокого уровня, таких как выпадающие списки, графики, блоки markdown и многое другое.\n",
    "\n",
    "Как и все компоненты Dash, они описаны полностью декларативно. Каждая настраиваемая опция доступна в качестве ключевого аргумента компонента.\n",
    "\n",
    "Мы рассмотрим многие из этих компонентов в этом руководстве. Вы можете просмотреть все доступные компоненты в обзоре основных компонентов Dash.\n",
    "\n",
    "Вот несколько доступных компонентов. Создайте файл с именем `app.py` с помощью следующего кода:"
   ]
  },
  {
   "cell_type": "code",
   "execution_count": 34,
   "metadata": {},
   "outputs": [
    {
     "data": {
      "text/html": [
       "\n",
       "        <iframe\n",
       "            width=\"100%\"\n",
       "            height=\"650\"\n",
       "            src=\"http://127.0.0.1:8050/\"\n",
       "            frameborder=\"0\"\n",
       "            allowfullscreen\n",
       "            \n",
       "        ></iframe>\n",
       "        "
      ],
      "text/plain": [
       "<IPython.lib.display.IFrame at 0x19f001500e0>"
      ]
     },
     "metadata": {},
     "output_type": "display_data"
    }
   ],
   "source": [
    "# Run this app with `python app.py` and\n",
    "# visit http://127.0.0.1:8050/ in your web browser.\n",
    "\n",
    "\n",
    "from dash import Dash, html, dcc\n",
    "\n",
    "app = Dash()\n",
    "\n",
    "app.layout = html.Div([\n",
    "    html.Div(children=[\n",
    "        html.Label('Dropdown'),\n",
    "        dcc.Dropdown(['New York City', 'Montréal', 'San Francisco'], 'Montréal'),\n",
    "\n",
    "        html.Br(),\n",
    "        html.Label('Multi-Select Dropdown'),\n",
    "        dcc.Dropdown(['New York City', 'Montréal', 'San Francisco'],\n",
    "                     ['Montréal', 'San Francisco'],\n",
    "                     multi=True),\n",
    "\n",
    "        html.Br(),\n",
    "        html.Label('Radio Items'),\n",
    "        dcc.RadioItems(['New York City', 'Montréal', 'San Francisco'], 'Montréal'),\n",
    "    ], style={'padding': 10, 'flex': 1}),\n",
    "\n",
    "    html.Div(children=[\n",
    "        html.Label('Checkboxes'),\n",
    "        dcc.Checklist(['New York City', 'Montréal', 'San Francisco'],\n",
    "                      ['Montréal', 'San Francisco']\n",
    "        ),\n",
    "\n",
    "        html.Br(),\n",
    "        html.Label('Text Input'),\n",
    "        html.Br(),\n",
    "        dcc.Input(value='MTL', type='text'),\n",
    "\n",
    "        html.Br(),\n",
    "        html.Label('Slider'),\n",
    "        dcc.Slider(\n",
    "            min=0,\n",
    "            max=9,\n",
    "            marks={i: f'Label {i}' if i == 1 else str(i) for i in range(1, 6)},\n",
    "            value=5,\n",
    "        ),\n",
    "    ], style={'padding': 10, 'flex': 1})\n",
    "], style={'display': 'flex', 'flexDirection': 'row', 'background': 'white'})\n",
    "\n",
    "if __name__ == '__main__':\n",
    "    app.run(debug=False)"
   ]
  },
  {
   "cell_type": "markdown",
   "metadata": {},
   "source": [
    "### **Help**"
   ]
  },
  {
   "cell_type": "markdown",
   "metadata": {},
   "source": [
    "Компоненты Dash являются декларативными: каждый настраиваемый аспект этих компонентов задается при создании экземпляра в качестве аргумента ключевого слова.\n",
    "\n",
    "Вызовите `help` в вашей консоли Python для любого из компонентов, чтобы узнать больше о компоненте и его доступных аргументах."
   ]
  },
  {
   "cell_type": "code",
   "execution_count": 35,
   "metadata": {},
   "outputs": [
    {
     "name": "stdout",
     "output_type": "stream",
     "text": [
      "Help on class Dropdown in module dash.dcc.Dropdown:\n",
      "\n",
      "class Dropdown(dash.development.base_component.Component)\n",
      " |  Dropdown(options=undefined, value=undefined, multi=undefined, clearable=undefined, searchable=undefined, search_value=undefined, placeholder=undefined, disabled=undefined, optionHeight=undefined, maxHeight=undefined, style=undefined, className=undefined, id=undefined, loading_state=undefined, persistence=undefined, persisted_props=undefined, persistence_type=undefined, **kwargs)\n",
      " |\n",
      " |  A Dropdown component.\n",
      " |  Dropdown is an interactive dropdown element for selecting one or more\n",
      " |  items.\n",
      " |  The values and labels of the dropdown items are specified in the `options`\n",
      " |  property and the selected item(s) are specified with the `value` property.\n",
      " |\n",
      " |  Use a dropdown when you have many options (more than 5) or when you are\n",
      " |  constrained for space. Otherwise, you can use RadioItems or a Checklist,\n",
      " |  which have the benefit of showing the users all of the items at once.\n",
      " |\n",
      " |  Keyword arguments:\n",
      " |\n",
      " |  - options (list of dicts; optional):\n",
      " |      An array of options {label: [string|number], value:\n",
      " |      [string|number]}, an optional disabled field can be used for each\n",
      " |      option.\n",
      " |\n",
      " |      `options` is a list of string | number | booleans | dict | list of\n",
      " |      dicts with keys:\n",
      " |\n",
      " |      - label (a list of or a singular dash component, string or number; required):\n",
      " |          The option's label.\n",
      " |\n",
      " |      - value (string | number | boolean; required):\n",
      " |          The value of the option. This value corresponds to the items\n",
      " |          specified in the `value` property.\n",
      " |\n",
      " |      - disabled (boolean; optional):\n",
      " |          If True, this option is disabled and cannot be selected.\n",
      " |\n",
      " |      - title (string; optional):\n",
      " |          The HTML 'title' attribute for the option. Allows for\n",
      " |          information on hover. For more information on this attribute,\n",
      " |          see\n",
      " |          https://developer.mozilla.org/en-US/docs/Web/HTML/Global_attributes/title.\n",
      " |\n",
      " |      - search (string; optional):\n",
      " |          Optional search value for the option, to use if the label is a\n",
      " |          component or provide a custom search value different from the\n",
      " |          label. If no search value and the label is a component, the\n",
      " |          `value` will be used for search.\n",
      " |\n",
      " |  - value (string | number | boolean | list of string | number | booleans; optional):\n",
      " |      The value of the input. If `multi` is False (the default) then\n",
      " |      value is just a string that corresponds to the values provided in\n",
      " |      the `options` property. If `multi` is True, then multiple values\n",
      " |      can be selected at once, and `value` is an array of items with\n",
      " |      values corresponding to those in the `options` prop.\n",
      " |\n",
      " |  - multi (boolean; default False):\n",
      " |      If True, the user can select multiple values.\n",
      " |\n",
      " |  - clearable (boolean; default True):\n",
      " |      Whether or not the dropdown is \"clearable\", that is, whether or\n",
      " |      not a small \"x\" appears on the right of the dropdown that\n",
      " |      removes the selected value.\n",
      " |\n",
      " |  - searchable (boolean; default True):\n",
      " |      Whether to enable the searching feature or not.\n",
      " |\n",
      " |  - search_value (string; optional):\n",
      " |      The value typed in the DropDown for searching.\n",
      " |\n",
      " |  - placeholder (string; optional):\n",
      " |      The grey, default text shown when no option is selected.\n",
      " |\n",
      " |  - disabled (boolean; default False):\n",
      " |      If True, this dropdown is disabled and the selection cannot be\n",
      " |      changed.\n",
      " |\n",
      " |  - optionHeight (number; default 35):\n",
      " |      height of each option. Can be increased when label lengths would\n",
      " |      wrap around.\n",
      " |\n",
      " |  - maxHeight (number; default 200):\n",
      " |      height of the options dropdown.\n",
      " |\n",
      " |  - style (dict; optional):\n",
      " |      Defines CSS styles which will override styles previously set.\n",
      " |\n",
      " |  - className (string; optional):\n",
      " |      className of the dropdown element.\n",
      " |\n",
      " |  - id (string; optional):\n",
      " |      The ID of this component, used to identify dash components in\n",
      " |      callbacks. The ID needs to be unique across all of the components\n",
      " |      in an app.\n",
      " |\n",
      " |  - loading_state (dict; optional):\n",
      " |      Object that holds the loading state object coming from\n",
      " |      dash-renderer.\n",
      " |\n",
      " |      `loading_state` is a dict with keys:\n",
      " |\n",
      " |      - is_loading (boolean; optional):\n",
      " |          Determines if the component is loading or not.\n",
      " |\n",
      " |      - prop_name (string; optional):\n",
      " |          Holds which property is loading.\n",
      " |\n",
      " |      - component_name (string; optional):\n",
      " |          Holds the name of the component that is loading.\n",
      " |\n",
      " |  - persistence (boolean | string | number; optional):\n",
      " |      Used to allow user interactions in this component to be persisted\n",
      " |      when the component - or the page - is refreshed. If `persisted` is\n",
      " |      truthy and hasn't changed from its previous value, a `value` that\n",
      " |      the user has changed while using the app will keep that change, as\n",
      " |      long as the new `value` also matches what was given originally.\n",
      " |      Used in conjunction with `persistence_type`.\n",
      " |\n",
      " |  - persisted_props (list of a value equal to: 'value's; default ['value']):\n",
      " |      Properties whose user interactions will persist after refreshing\n",
      " |      the component or the page. Since only `value` is allowed this prop\n",
      " |      can normally be ignored.\n",
      " |\n",
      " |  - persistence_type (a value equal to: 'local', 'session', 'memory'; default 'local'):\n",
      " |      Where persisted user changes will be stored: memory: only kept in\n",
      " |      memory, reset on page refresh. local: window.localStorage, data is\n",
      " |      kept after the browser quit. session: window.sessionStorage, data\n",
      " |      is cleared once the browser quit.\n",
      " |\n",
      " |  Method resolution order:\n",
      " |      Dropdown\n",
      " |      dash.development.base_component.Component\n",
      " |      builtins.object\n",
      " |\n",
      " |  Methods defined here:\n",
      " |\n",
      " |  __init__ = wrapper(self, options=undefined, value=undefined, multi=undefined, clearable=undefined, searchable=undefined, search_value=undefined, placeholder=undefined, disabled=undefined, optionHeight=undefined, maxHeight=undefined, style=undefined, className=undefined, id=undefined, loading_state=undefined, persistence=undefined, persisted_props=undefined, persistence_type=undefined, **kwargs) from dash.development.base_component._explicitize_args.<locals>\n",
      " |\n",
      " |  ----------------------------------------------------------------------\n",
      " |  Data and other attributes defined here:\n",
      " |\n",
      " |  __abstractmethods__ = frozenset()\n",
      " |\n",
      " |  ----------------------------------------------------------------------\n",
      " |  Methods inherited from dash.development.base_component.Component:\n",
      " |\n",
      " |  __delitem__(self, id)\n",
      " |      Delete items by ID in the tree of children.\n",
      " |\n",
      " |  __getitem__(self, id)\n",
      " |      Recursively find the element with the given ID through the tree of\n",
      " |      children.\n",
      " |\n",
      " |  __iter__(self)\n",
      " |      Yield IDs in the tree of children.\n",
      " |\n",
      " |  __len__(self)\n",
      " |      Return the number of items in the tree.\n",
      " |\n",
      " |  __repr__(self)\n",
      " |      Return repr(self).\n",
      " |\n",
      " |  __setitem__(self, id, item)\n",
      " |      Set an element by its ID.\n",
      " |\n",
      " |  to_plotly_json(self)\n",
      " |\n",
      " |  ----------------------------------------------------------------------\n",
      " |  Data descriptors inherited from dash.development.base_component.Component:\n",
      " |\n",
      " |  __dict__\n",
      " |      dictionary for instance variables\n",
      " |\n",
      " |  __weakref__\n",
      " |      list of weak references to the object\n",
      " |\n",
      " |  ----------------------------------------------------------------------\n",
      " |  Data and other attributes inherited from dash.development.base_component.Component:\n",
      " |\n",
      " |  REQUIRED = required\n",
      " |\n",
      " |  UNDEFINED = undefined\n",
      "\n"
     ]
    }
   ],
   "source": [
    "help(dcc.Dropdown)"
   ]
  },
  {
   "cell_type": "markdown",
   "metadata": {},
   "source": [
    "### **Summary**"
   ]
  },
  {
   "cell_type": "markdown",
   "metadata": {},
   "source": [
    "Макет приложения Dash описывает, как оно выглядит. Макет представляет собой иерархическое дерево компонентов или список компонентов (в Dash 2.17 и более поздних версиях).\n",
    "\n",
    "Компоненты Dash HTML (`dash.html`) предоставляют классы для всех тегов HTML, а аргументы ключевых слов описывают атрибуты HTML, такие как `style`, `class` и `id`. Компоненты ядра Dash (`dash.dcc`) генерируют компоненты более высокого уровня, такие как элементы управления и графики.\n",
    "\n",
    "В следующей части Основных принципов Dash рассказывается о том, как сделать эти приложения интерактивными. Dash Fundamentals Part 2: Basic Callbacks"
   ]
  },
  {
   "cell_type": "markdown",
   "metadata": {},
   "source": [
    "## **Part 2.** Basic Callbacks"
   ]
  }
 ],
 "metadata": {
  "kernelspec": {
   "display_name": ".venv",
   "language": "python",
   "name": "python3"
  },
  "language_info": {
   "codemirror_mode": {
    "name": "ipython",
    "version": 3
   },
   "file_extension": ".py",
   "mimetype": "text/x-python",
   "name": "python",
   "nbconvert_exporter": "python",
   "pygments_lexer": "ipython3",
   "version": "3.12.6"
  }
 },
 "nbformat": 4,
 "nbformat_minor": 2
}
