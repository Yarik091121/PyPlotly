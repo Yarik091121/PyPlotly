{
 "cells": [
  {
   "cell_type": "code",
   "execution_count": null,
   "metadata": {},
   "outputs": [],
   "source": [
    "# ! pip install pandas \n",
    "# ! pip install dash"
   ]
  },
  {
   "cell_type": "markdown",
   "metadata": {},
   "source": [
    "# A Minimal Dash App"
   ]
  },
  {
   "cell_type": "code",
   "execution_count": 11,
   "metadata": {},
   "outputs": [
    {
     "data": {
      "text/html": [
       "\n",
       "        <iframe\n",
       "            width=\"100%\"\n",
       "            height=\"650\"\n",
       "            src=\"http://127.0.0.1:8050/\"\n",
       "            frameborder=\"0\"\n",
       "            allowfullscreen\n",
       "            \n",
       "        ></iframe>\n",
       "        "
      ],
      "text/plain": [
       "<IPython.lib.display.IFrame at 0x26022d18aa0>"
      ]
     },
     "metadata": {},
     "output_type": "display_data"
    }
   ],
   "source": [
    "from dash import Dash, html, dcc, callback, Output, Input\n",
    "import plotly.express as px\n",
    "import pandas as pd\n",
    "\n",
    "df = pd.read_csv('https://raw.githubusercontent.com/plotly/datasets/master/gapminder_unfiltered.csv')\n",
    "\n",
    "app = Dash()\n",
    "\n",
    "app.layout = [\n",
    "    html.H1(children='Title of Dash App', style={'textAlign':'center',\n",
    "                                                 'color': 'RoyalBlue', \n",
    "                                                 'background': 'white', \n",
    "                                                 'border-radius': '5px',\n",
    "                                                 'height': '50px'}),\n",
    "    dcc.Dropdown(df.country.unique(), 'Canada', id='dropdown-selection'),\n",
    "    dcc.Graph(id='graph-content')\n",
    "]\n",
    "\n",
    "@callback(\n",
    "    Output('graph-content', 'figure'),\n",
    "    Input('dropdown-selection', 'value')\n",
    ")\n",
    "def update_graph(value):\n",
    "    dff = df[df.country==value]\n",
    "    return px.line(dff, x='year', y='pop')\n",
    "\n",
    "if __name__ == '__main__':\n",
    "    app.run(debug=True)"
   ]
  },
  {
   "cell_type": "markdown",
   "metadata": {},
   "source": [
    "# Dash in 20 minutes"
   ]
  },
  {
   "cell_type": "markdown",
   "metadata": {},
   "source": [
    "### **Hello World**"
   ]
  },
  {
   "cell_type": "markdown",
   "metadata": {},
   "source": [
    "\n",
    "Создание и запуск приложения с помощью Dash может быть выполнено всего с помощью 5 строк кода.\n",
    "\n",
    "Откройте IDE Python на своем компьютере, создайте `app.py` файл с приведенным ниже кодом и установите Dash, если вы еще этого не сделали. Чтобы запустить приложение, введите в свой терминал команду `python app.py`. Затем перейдите по http-ссылке.\n",
    "\n",
    "В качестве альтернативы, с Dash 2.11 или более поздней версии, вы можете запустить это приложение и другие примеры из этой документации в записной книжке <span style=\"color: #8A2BE2;\">**Jupyter Notebook**</span>.\n",
    "\n",
    "Приведенный ниже код создает очень маленькое приложение Dash \"Hello World\"."
   ]
  },
  {
   "cell_type": "code",
   "execution_count": 15,
   "metadata": {},
   "outputs": [
    {
     "data": {
      "text/html": [
       "\n",
       "        <iframe\n",
       "            width=\"100%\"\n",
       "            height=\"650\"\n",
       "            src=\"http://127.0.0.1:8050/\"\n",
       "            frameborder=\"0\"\n",
       "            allowfullscreen\n",
       "            \n",
       "        ></iframe>\n",
       "        "
      ],
      "text/plain": [
       "<IPython.lib.display.IFrame at 0x26022e57ad0>"
      ]
     },
     "metadata": {},
     "output_type": "display_data"
    }
   ],
   "source": [
    "# Hellow World\n",
    "from dash import Dash, html\n",
    "\n",
    "app = Dash()\n",
    "\n",
    "app.layout = [html.Div(children='Hello World', style={'background': 'white'})]\n",
    "\n",
    "if __name__ == '__main__':\n",
    "    app.run(debug=True)"
   ]
  },
  {
   "cell_type": "markdown",
   "metadata": {},
   "source": [
    "### **Hello World: Code Breakdown** (Разбивка кода)"
   ]
  },
  {
   "cell_type": "markdown",
   "metadata": {},
   "source": [
    "```\n",
    "# Import packages\n",
    "from dash import Dash, html\n",
    "```"
   ]
  },
  {
   "cell_type": "markdown",
   "metadata": {},
   "source": [
    "* При создании приложений Dash вы почти всегда будете использовать приведенную выше инструкцию импорта. По мере создания более продвинутых приложений Dash вы будете импортировать больше пакетов."
   ]
  },
  {
   "cell_type": "markdown",
   "metadata": {},
   "source": [
    "```\n",
    "# Initialize the app\n",
    "app = Dash()\n",
    "```\n",
    "* Эта строка известна как конструктор Dash и отвечает за инициализацию вашего приложения. Она почти всегда одинакова для любого приложения Dash, которое вы создаете.\n",
    "\n",
    "```\n",
    "# App layout    (Макет приложения)\n",
    "app.layout = [html.Div(children='Hello World')]\n",
    "```\n",
    "* Макет приложения представляет компоненты приложения, которые будут отображаться в веб-браузере, и здесь представлен в виде `list`, хотя это также может быть компонент Dash. В этом примере в список был добавлен единственный компонент: `html.Div`. У Div есть несколько свойств, таких как дочерние элементы (`children`), которые мы используем для добавления текстового содержимого на страницу: \"Hello World\".\n",
    "\n",
    "```\n",
    "# Run the app\n",
    "if __name__ == '__main__':\n",
    "    app.run(debug=True)\n",
    "```\n",
    "* Эти строки предназначены для запуска вашего приложения, и они почти всегда одинаковы для любого приложения Dash, которое вы создаете."
   ]
  },
  {
   "cell_type": "markdown",
   "metadata": {},
   "source": [
    "### **Подключение к данным**"
   ]
  },
  {
   "cell_type": "markdown",
   "metadata": {},
   "source": [
    "Существует множество способов добавления данных в приложение: API, внешние базы данных, локальные файлы `.txt`, файлы JSON и многое другое. В этом примере мы выделим один из наиболее распространенных способов включения данных из таблицы CSV.\n",
    "\n",
    "Замените `app.py` код из предыдущего раздела кодом ниже."
   ]
  },
  {
   "cell_type": "code",
   "execution_count": 21,
   "metadata": {},
   "outputs": [
    {
     "data": {
      "text/html": [
       "\n",
       "        <iframe\n",
       "            width=\"100%\"\n",
       "            height=\"650\"\n",
       "            src=\"http://127.0.0.1:8050/\"\n",
       "            frameborder=\"0\"\n",
       "            allowfullscreen\n",
       "            \n",
       "        ></iframe>\n",
       "        "
      ],
      "text/plain": [
       "<IPython.lib.display.IFrame at 0x26022e2a330>"
      ]
     },
     "metadata": {},
     "output_type": "display_data"
    }
   ],
   "source": [
    "# Import packages\n",
    "from dash import Dash, html, dash_table\n",
    "import pandas as pd\n",
    "\n",
    "# Загружаем данные\n",
    "df = pd.read_csv('https://raw.githubusercontent.com/plotly/datasets/master/gapminder2007.csv')\n",
    "\n",
    "# Инициализируем приложение\n",
    "app = Dash()\n",
    "\n",
    "# Макет приложения\n",
    "app.layout = [\n",
    "    html.Div(children='My First App with Data', style={'background': 'white'}),\n",
    "    dash_table.DataTable(data=df.to_dict('records'), page_size=6)\n",
    "]\n",
    "\n",
    "# Run the app\n",
    "if __name__ == '__main__':\n",
    "    app.run(debug=True)"
   ]
  },
  {
   "cell_type": "markdown",
   "metadata": {},
   "source": [
    "### **Визуализация данных**"
   ]
  },
  {
   "cell_type": "markdown",
   "metadata": {},
   "source": [
    "Библиотека построения графиков Plotly предлагает на выбор более <span style=\"color: #8A2BE2;\">50 типов диаграмм</span>. В этом примере мы будем использовать диаграмму гистограммы.\n",
    "\n",
    "Замените код `app.py` из предыдущего раздела кодом, приведенным ниже."
   ]
  },
  {
   "cell_type": "code",
   "execution_count": null,
   "metadata": {},
   "outputs": [
    {
     "data": {
      "text/html": [
       "\n",
       "        <iframe\n",
       "            width=\"100%\"\n",
       "            height=\"650\"\n",
       "            src=\"http://127.0.0.1:8050/\"\n",
       "            frameborder=\"0\"\n",
       "            allowfullscreen\n",
       "            \n",
       "        ></iframe>\n",
       "        "
      ],
      "text/plain": [
       "<IPython.lib.display.IFrame at 0x260230a2a50>"
      ]
     },
     "metadata": {},
     "output_type": "display_data"
    }
   ],
   "source": [
    "# Import packages\n",
    "from dash import Dash, html, dash_table, dcc\n",
    "import pandas as pd\n",
    "import plotly.express as px\n",
    "\n",
    "# Incorporate data\n",
    "df = pd.read_csv('https://raw.githubusercontent.com/plotly/datasets/master/gapminder2007.csv')\n",
    "\n",
    "# Initialize the app\n",
    "app = Dash()\n",
    "\n",
    "# App layout\n",
    "app.layout = [\n",
    "    html.Div(children='My First App with Data and a Graph', style={'background': 'white'}),\n",
    "    # Табличка с кол-вом записей == 5\n",
    "    dash_table.DataTable(data=df.to_dict('records'), page_size=5),\n",
    "    # Графика -> гистограмма \n",
    "    dcc.Graph(figure=px.histogram(df, x='continent', y='lifeExp', histfunc='avg'))\n",
    "]\n",
    "\n",
    "# Run the app\n",
    "if __name__ == '__main__':\n",
    "    app.run(debug=True)\n"
   ]
  },
  {
   "cell_type": "markdown",
   "metadata": {},
   "source": [
    "* Мы импортируем модуль `dcc` (DCC расшифровывается как компоненты ядра Dash). Этот модуль включает графический компонент под названием `dcc.Graph`, который используется для отображения интерактивных графиков. \n",
    "* Мы также импортируем библиотеку `plotly.express` для построения интерактивных графиков."
   ]
  },
  {
   "cell_type": "markdown",
   "metadata": {},
   "source": [
    "### **Controls and Callbacks**"
   ]
  },
  {
   "cell_type": "markdown",
   "metadata": {},
   "source": [
    "На данный момент вы создали статическое приложение, которое отображает табличные данные и график. Однако по мере разработки более сложных приложений Dash вы, вероятно, захотите предоставить пользователю приложения больше свободы для взаимодействия с приложением и более глубокого изучения данных. Чтобы добиться этого, вам нужно будет добавить элементы управления в приложение с помощью функции обратного вызова.\n",
    "\n",
    "В этом примере мы добавим переключатели в макет приложения. Затем мы создадим обратный вызов для создания взаимодействия между переключателями и гистограммой."
   ]
  },
  {
   "cell_type": "code",
   "execution_count": 25,
   "metadata": {},
   "outputs": [
    {
     "data": {
      "text/html": [
       "\n",
       "        <iframe\n",
       "            width=\"100%\"\n",
       "            height=\"650\"\n",
       "            src=\"http://127.0.0.1:8050/\"\n",
       "            frameborder=\"0\"\n",
       "            allowfullscreen\n",
       "            \n",
       "        ></iframe>\n",
       "        "
      ],
      "text/plain": [
       "<IPython.lib.display.IFrame at 0x26022eb0d10>"
      ]
     },
     "metadata": {},
     "output_type": "display_data"
    }
   ],
   "source": [
    "# Import packages\n",
    "from dash import Dash, html, dash_table, dcc, callback, Output, Input\n",
    "import pandas as pd\n",
    "import plotly.express as px\n",
    "\n",
    "# Incorporate data\n",
    "df = pd.read_csv('https://raw.githubusercontent.com/plotly/datasets/master/gapminder2007.csv')\n",
    "\n",
    "# Initialize the app\n",
    "app = Dash()\n",
    "\n",
    "# App layout\n",
    "app.layout = [\n",
    "    html.Div(children='My First App with Data, Graph, and Controls', style={'background': 'white'}),\n",
    "    html.Hr(),\n",
    "    dcc.RadioItems(options=['pop', 'lifeExp', 'gdpPercap'], value='lifeExp', id='controls-and-radio-item', style={'background': 'white'}),\n",
    "    dash_table.DataTable(data=df.to_dict('records'), page_size=6),\n",
    "    dcc.Graph(figure={}, id='controls-and-graph')\n",
    "]\n",
    "\n",
    "# Add controls to build the interaction\n",
    "@callback(\n",
    "    Output(component_id='controls-and-graph', component_property='figure'),\n",
    "    Input(component_id='controls-and-radio-item', component_property='value')\n",
    ")\n",
    "def update_graph(col_chosen):\n",
    "    fig = px.histogram(df, x='continent', y=col_chosen, histfunc='avg')\n",
    "    return fig\n",
    "\n",
    "# Run the app\n",
    "if __name__ == '__main__':\n",
    "    app.run(debug=True)"
   ]
  },
  {
   "cell_type": "markdown",
   "metadata": {},
   "source": [
    "### **Стилизация приложения**"
   ]
  },
  {
   "cell_type": "markdown",
   "metadata": {},
   "source": [
    "В примерах в предыдущем разделе использовались компоненты Dash HTML для создания простого макета приложения, но вы можете придать своему приложению более профессиональный вид. В этом разделе будет дан краткий обзор множества инструментов, которые вы можете использовать для улучшения стиля оформления приложения Dash:\n",
    "* HTML и CSS\n",
    "* Dash Design Kit (DDK)\n",
    "* Dash Bootstrap Components\n",
    "* Dash Mantine Components"
   ]
  },
  {
   "cell_type": "markdown",
   "metadata": {},
   "source": [
    "### **HTML и CSS**"
   ]
  },
  {
   "cell_type": "markdown",
   "metadata": {},
   "source": [
    "HTML и CSS - это самый низкий уровень интерфейса для отображения контента в Интернете. HTML - это набор компонентов, а CSS - это набор стилей, применяемых к этим компонентам. Стили CSS могут применяться внутри компонентов с помощью свойства `style`, или они могут быть определены как отдельный файл CSS со ссылкой на свойство `className`, как в примере ниже."
   ]
  },
  {
   "cell_type": "code",
   "execution_count": 4,
   "metadata": {},
   "outputs": [
    {
     "data": {
      "text/html": [
       "\n",
       "        <iframe\n",
       "            width=\"100%\"\n",
       "            height=\"650\"\n",
       "            src=\"http://127.0.0.1:8050/\"\n",
       "            frameborder=\"0\"\n",
       "            allowfullscreen\n",
       "            \n",
       "        ></iframe>\n",
       "        "
      ],
      "text/plain": [
       "<IPython.lib.display.IFrame at 0x19f7e64c380>"
      ]
     },
     "metadata": {},
     "output_type": "display_data"
    }
   ],
   "source": [
    "# Import packages\n",
    "from dash import Dash, html, dash_table, dcc, callback, Output, Input\n",
    "import pandas as pd\n",
    "import plotly.express as px\n",
    "\n",
    "# Incorporate data\n",
    "df = pd.read_csv('https://raw.githubusercontent.com/plotly/datasets/master/gapminder2007.csv')\n",
    "\n",
    "# Initialize the app - incorporate css\n",
    "external_stylesheets = ['https://codepen.io/chriddyp/pen/bWLwgP.css']\n",
    "app = Dash(external_stylesheets=external_stylesheets)\n",
    "\n",
    "# App layout\n",
    "app.layout = [\n",
    "    html.Div(className='row', children='My First App with Data, Graph, and Controls',\n",
    "             style={'textAlign': 'center', 'color': 'blue', 'fontSize': 30}),\n",
    "\n",
    "    html.Div(className='row', children=[\n",
    "        dcc.RadioItems(options=['pop', 'lifeExp', 'gdpPercap'],\n",
    "                       value='lifeExp',\n",
    "                       inline=True,\n",
    "                       id='my-radio-buttons-final',\n",
    "                       style={'background': '#81D4FA'})\n",
    "    ]),\n",
    "\n",
    "    html.Div(className='row', children=[\n",
    "        html.Div(className='six columns', children=[\n",
    "            dash_table.DataTable(data=df.to_dict('records'), page_size=11, style_table={'overflowX': 'auto'})\n",
    "        ]),\n",
    "        html.Div(className='six columns', children=[\n",
    "            dcc.Graph(figure={}, id='histo-chart-final')\n",
    "        ])\n",
    "    ])\n",
    "]\n",
    "\n",
    "# Add controls to build the interaction\n",
    "@callback(\n",
    "    Output(component_id='histo-chart-final', component_property='figure'),\n",
    "    Input(component_id='my-radio-buttons-final', component_property='value')\n",
    ")\n",
    "def update_graph(col_chosen):\n",
    "    fig = px.histogram(df, x='continent', y=col_chosen, histfunc='avg')\n",
    "    return fig\n",
    "\n",
    "# Run the app\n",
    "if __name__ == '__main__':\n",
    "    app.run(debug=True)\n"
   ]
  },
  {
   "cell_type": "markdown",
   "metadata": {},
   "source": [
    "### **Dash Design Kit (DDK)**"
   ]
  },
  {
   "cell_type": "markdown",
   "metadata": {},
   "source": [
    "Dash Design Kit - это наш высокоуровневый фреймворк пользовательского интерфейса, специально созданный для Dash. С Dash Design Kit вам не нужно использовать HTML или CSS. Приложения по умолчанию адаптированы к мобильным устройствам, и все доступно для тематизации. Dash Design Kit лицензирован как часть Dash Enterprise и официально поддерживается Plotly.\n",
    "\n",
    "Вот пример того, что вы можете сделать с помощью Dash Design Kit (обратите внимание, что вы не сможете запустить этот пример без корпоративной лицензии Dash)."
   ]
  },
  {
   "cell_type": "code",
   "execution_count": null,
   "metadata": {},
   "outputs": [
    {
     "ename": "ModuleNotFoundError",
     "evalue": "No module named 'dash_design_kit'",
     "output_type": "error",
     "traceback": [
      "\u001b[1;31m---------------------------------------------------------------------------\u001b[0m",
      "\u001b[1;31mModuleNotFoundError\u001b[0m                       Traceback (most recent call last)",
      "Cell \u001b[1;32mIn[6], line 5\u001b[0m\n\u001b[0;32m      3\u001b[0m \u001b[38;5;28;01mimport\u001b[39;00m\u001b[38;5;250m \u001b[39m\u001b[38;5;21;01mpandas\u001b[39;00m\u001b[38;5;250m \u001b[39m\u001b[38;5;28;01mas\u001b[39;00m\u001b[38;5;250m \u001b[39m\u001b[38;5;21;01mpd\u001b[39;00m\n\u001b[0;32m      4\u001b[0m \u001b[38;5;28;01mimport\u001b[39;00m\u001b[38;5;250m \u001b[39m\u001b[38;5;21;01mplotly\u001b[39;00m\u001b[38;5;21;01m.\u001b[39;00m\u001b[38;5;21;01mexpress\u001b[39;00m\u001b[38;5;250m \u001b[39m\u001b[38;5;28;01mas\u001b[39;00m\u001b[38;5;250m \u001b[39m\u001b[38;5;21;01mpx\u001b[39;00m\n\u001b[1;32m----> 5\u001b[0m \u001b[38;5;28;01mimport\u001b[39;00m\u001b[38;5;250m \u001b[39m\u001b[38;5;21;01mdash_design_kit\u001b[39;00m\u001b[38;5;250m \u001b[39m\u001b[38;5;28;01mas\u001b[39;00m\u001b[38;5;250m \u001b[39m\u001b[38;5;21;01mddk\u001b[39;00m\n\u001b[0;32m      7\u001b[0m \u001b[38;5;66;03m# Incorporate data\u001b[39;00m\n\u001b[0;32m      8\u001b[0m df \u001b[38;5;241m=\u001b[39m pd\u001b[38;5;241m.\u001b[39mread_csv(\u001b[38;5;124m'\u001b[39m\u001b[38;5;124mhttps://raw.githubusercontent.com/plotly/datasets/master/gapminder2007.csv\u001b[39m\u001b[38;5;124m'\u001b[39m)\n",
      "\u001b[1;31mModuleNotFoundError\u001b[0m: No module named 'dash_design_kit'"
     ]
    }
   ],
   "source": [
    "# Import packages\n",
    "from dash import Dash, html, dash_table, dcc, callback, Output, Input\n",
    "import pandas as pd\n",
    "import plotly.express as px\n",
    "import dash_design_kit as ddk\n",
    "\n",
    "# Incorporate data\n",
    "df = pd.read_csv('https://raw.githubusercontent.com/plotly/datasets/master/gapminder2007.csv')\n",
    "\n",
    "# Initialize the app\n",
    "app = Dash()\n",
    "\n",
    "# App layout\n",
    "app.layout = ddk.App([\n",
    "    ddk.Header(ddk.Title('My First App with Data, Graph, and Controls')),\n",
    "    dcc.RadioItems(options=['pop', 'lifeExp', 'gdpPercap'],\n",
    "                    value='lifeExp',\n",
    "                    inline=True,\n",
    "                    id='my-ddk-radio-items-final'),\n",
    "    ddk.Row([\n",
    "        ddk.Card([\n",
    "            dash_table.DataTable(data=df.to_dict('records'), page_size=12, style_table={'overflowX': 'auto'})\n",
    "        ], width=50),\n",
    "        ddk.Card([\n",
    "            ddk.Graph(figure={}, id='graph-placeholder-ddk-final')\n",
    "        ], width=50),\n",
    "    ]),\n",
    "\n",
    "])\n",
    "\n",
    "# Add controls to build the interaction\n",
    "@callback(\n",
    "    Output(component_id='graph-placeholder-ddk-final', component_property='figure'),\n",
    "    Input(component_id='my-ddk-radio-items-final', component_property='value')\n",
    ")\n",
    "def update_graph(col_chosen):\n",
    "    fig = px.histogram(df, x='continent', y=col_chosen, histfunc='avg')\n",
    "    return fig\n",
    "\n",
    "# Run the app\n",
    "if __name__ == '__main__':\n",
    "    app.run(debug=True)"
   ]
  },
  {
   "cell_type": "markdown",
   "metadata": {},
   "source": [
    "### **Dash Bootstrap Components**"
   ]
  },
  {
   "cell_type": "markdown",
   "metadata": {},
   "source": [
    "Dash Bootstrap - это поддерживаемая сообществом библиотека, созданная на основе системы компонентов bootstrap. Хотя она официально не поддерживается Plotly, Dash Bootstrap - это мощный способ создания элегантных макетов приложений. Обратите внимание, что сначала мы определяем строку, а затем ширину столбцов внутри строки, используя компоненты `dbc.Row` и `dbc.Col`.\n",
    "\n",
    "Чтобы приведенное ниже приложение успешно запустилось, обязательно установите библиотеку компонентов начальной загрузки Dash: `pip install dash-bootstrap-components`."
   ]
  },
  {
   "cell_type": "code",
   "execution_count": null,
   "metadata": {},
   "outputs": [],
   "source": [
    "! pip install dash-bootstrap-components"
   ]
  },
  {
   "cell_type": "code",
   "execution_count": null,
   "metadata": {},
   "outputs": [
    {
     "data": {
      "text/html": [
       "\n",
       "        <iframe\n",
       "            width=\"100%\"\n",
       "            height=\"650\"\n",
       "            src=\"http://127.0.0.1:8050/\"\n",
       "            frameborder=\"0\"\n",
       "            allowfullscreen\n",
       "            \n",
       "        ></iframe>\n",
       "        "
      ],
      "text/plain": [
       "<IPython.lib.display.IFrame at 0x19f7e77d1c0>"
      ]
     },
     "metadata": {},
     "output_type": "display_data"
    }
   ],
   "source": [
    "# Import packages\n",
    "from dash import Dash, html, dash_table, dcc, callback, Output, Input\n",
    "import pandas as pd\n",
    "import plotly.express as px\n",
    "import dash_bootstrap_components as dbc\n",
    "\n",
    "# Incorporate data\n",
    "df = pd.read_csv('https://raw.githubusercontent.com/plotly/datasets/master/gapminder2007.csv')\n",
    "\n",
    "# Initialize the app - incorporate a Dash Bootstrap theme\n",
    "external_stylesheets = [dbc.themes.CERULEAN]\n",
    "app = Dash(__name__, external_stylesheets=external_stylesheets)\n",
    "\n",
    "# App layout\n",
    "app.layout = dbc.Container([\n",
    "    dbc.Row([\n",
    "        html.Div('My First App with Data, Graph, and Controls', className=\"text-primary text-center fs-3\")\n",
    "    ]),\n",
    "\n",
    "    dbc.Row([\n",
    "        dbc.RadioItems(options=[{\"label\": x, \"value\": x} for x in ['pop', 'lifeExp', 'gdpPercap']],\n",
    "                       value='lifeExp',\n",
    "                       inline=True,\n",
    "                       id='radio-buttons-final')\n",
    "    ]),\n",
    "\n",
    "    dbc.Row([\n",
    "        dbc.Col([\n",
    "            dash_table.DataTable(data=df.to_dict('records'), page_size=12, style_table={'overflowX': 'auto'})\n",
    "        ], width=6),\n",
    "\n",
    "        dbc.Col([\n",
    "            dcc.Graph(figure={}, id='my-first-graph-final')\n",
    "        ], width=6),\n",
    "    ]),\n",
    "\n",
    "], fluid=True)\n",
    "\n",
    "# Add controls to build the interaction\n",
    "@callback(\n",
    "    Output(component_id='my-first-graph-final', component_property='figure'),\n",
    "    Input(component_id='radio-buttons-final', component_property='value')\n",
    ")\n",
    "def update_graph(col_chosen):\n",
    "    fig = px.histogram(df, x='continent', y=col_chosen, histfunc='avg')\n",
    "    return fig\n",
    "\n",
    "# Run the app\n",
    "if __name__ == '__main__':\n",
    "    app.run(debug=True)"
   ]
  },
  {
   "cell_type": "markdown",
   "metadata": {},
   "source": [
    "# Dash Fundamentals (layout, callbacks, interactive graphing, sharing data between callbacks)"
   ]
  },
  {
   "cell_type": "markdown",
   "metadata": {},
   "source": [
    "## **Part 1.** Dash Layout (Расположение панели)"
   ]
  },
  {
   "cell_type": "markdown",
   "metadata": {},
   "source": [
    "В этом руководстве вы познакомитесь с фундаментальным аспектом Dash apps, макетом приложения, а также с шестью автономными приложениями.\n",
    "\n",
    "Для производственных приложений Dash мы рекомендуем стилизовать макет приложения с помощью Dash Enterprise Design Kit.\n",
    "\n",
    "---------------\n",
    "Приложения Dash состоят из двух частей. Первая часть - это \"макет\", который описывает, как выглядит приложение. Вторая часть описывает интерактивность приложения и будет рассмотрена в следующей главе.\n",
    "\n",
    "Примечание: В этой документации каждый пример кода на Python можно запустить, либо сохранив его в файл `app.py` и используя `python app.py`, либо запустив его в ячейке Jupyter notebook."
   ]
  },
  {
   "cell_type": "markdown",
   "metadata": {},
   "source": [
    "### Просто код - Hello World"
   ]
  },
  {
   "cell_type": "code",
   "execution_count": 24,
   "metadata": {},
   "outputs": [
    {
     "data": {
      "text/html": [
       "\n",
       "        <iframe\n",
       "            width=\"100%\"\n",
       "            height=\"650\"\n",
       "            src=\"http://127.0.0.1:8050/\"\n",
       "            frameborder=\"0\"\n",
       "            allowfullscreen\n",
       "            \n",
       "        ></iframe>\n",
       "        "
      ],
      "text/plain": [
       "<IPython.lib.display.IFrame at 0x19f0015e1b0>"
      ]
     },
     "metadata": {},
     "output_type": "display_data"
    }
   ],
   "source": [
    "# Run this app with `python app.py` and\n",
    "# visit http://127.0.0.1:8050/ in your web browser.\n",
    "\n",
    "from dash import Dash, html, dcc\n",
    "import plotly.express as px\n",
    "import pandas as pd\n",
    "\n",
    "app = Dash()\n",
    "\n",
    "# assume you have a \"long-form\" data frame\n",
    "# see https://plotly.com/python/px-arguments/ for more options\n",
    "df = pd.DataFrame({\n",
    "    \"Fruit\": [\"Apples\", \"Oranges\", \"Bananas\", \"Apples\", \"Oranges\", \"Bananas\"],\n",
    "    \"Amount\": [4, 1, 2, 2, 4, 5],\n",
    "    \"City\": [\"SF\", \"SF\", \"SF\", \"Montreal\", \"Montreal\", \"Montreal\"]\n",
    "})\n",
    "\n",
    "fig = px.bar(df, x=\"Fruit\", y=\"Amount\", color=\"City\", barmode=\"group\")\n",
    "\n",
    "app.layout = html.Div(children=[\n",
    "    html.H1(children='Hello Dash', style={'background': 'white'}),\n",
    "\n",
    "    html.Div(children='''\n",
    "        Dash: A web application framework for your data.\n",
    "    ''', style={'background': 'white'}),\n",
    "\n",
    "    dcc.Graph(\n",
    "        id='example-graph',\n",
    "        figure=fig\n",
    "    )\n",
    "])\n",
    "\n",
    "if __name__ == '__main__':\n",
    "    app.run(debug=True)"
   ]
  },
  {
   "cell_type": "markdown",
   "metadata": {},
   "source": [
    "Примечание:\n",
    "* `layout` состоит из дерева компонентов, таких как `html.Div` и `dcc.Graph`\n",
    "* Dash HTML модуль (dash.html) содержит компоненту для любого HTML тэга. `html.H1(children='Hello Dash')` генерирует HTML-документ `<h1>Hello Dash</h1>` в вашем приложении.\n",
    "* Не все компоненты являются чистым HTML. Модуль компонентов ядра Dash (dash.dcc) содержит компоненты более высокого уровня, которые являются интерактивными и создаются с помощью JavaScript, HTML и CSS с помощью библиотеки React.js.\n",
    "* Каждый компонент полностью описывается с помощью атрибутов ключевых слов. Dash носит декларативный характер: в первую очередь вы будете описывать свое приложение с помощью этих атрибутов.\n",
    "* Свойство `children` является особым. По соглашению, это всегда первый атрибут, что означает, что вы можете его опустить: `html.H1(children= 'Hello Dash')` - это то же самое, что и `html.H1 ('Hello Dash')`. Он может содержать строку, число, отдельный компонент или список компонентов.\n",
    "* Шрифты в вашем приложении будут выглядеть немного иначе, чем показано здесь. В этом приложении используется пользовательская таблица стилей CSS и Dash Enterprise Design Kit для изменения стилей элементов по умолчанию. Вы можете узнать больше о пользовательском CSS в руководстве по CSS."
   ]
  },
  {
   "cell_type": "markdown",
   "metadata": {},
   "source": [
    "Dash включает \"горячую перезагрузку\". Эта функция активируется по умолчанию при запуске приложения с `app.run(debug=True)`. Это означает, что Dash автоматически обновит ваш браузер, когда вы внесете изменения в свой код."
   ]
  },
  {
   "cell_type": "markdown",
   "metadata": {},
   "source": [
    "### **More about HTML Components**"
   ]
  },
  {
   "cell_type": "markdown",
   "metadata": {},
   "source": [
    "Компоненты Dash HTML (`dash.html`) содержат класс компонента для каждого тега HTML, а также аргументы ключевого слова для всех аргументов HTML.\n",
    "\n",
    "Давайте настроим текст в нашем приложении, изменив встроенные стили компонентов. Создайте файл с именем `app.py` с помощью следующего кода:"
   ]
  },
  {
   "cell_type": "code",
   "execution_count": 17,
   "metadata": {},
   "outputs": [
    {
     "data": {
      "text/html": [
       "\n",
       "        <iframe\n",
       "            width=\"100%\"\n",
       "            height=\"650\"\n",
       "            src=\"http://127.0.0.1:8050/\"\n",
       "            frameborder=\"0\"\n",
       "            allowfullscreen\n",
       "            \n",
       "        ></iframe>\n",
       "        "
      ],
      "text/plain": [
       "<IPython.lib.display.IFrame at 0x19f00144500>"
      ]
     },
     "metadata": {},
     "output_type": "display_data"
    }
   ],
   "source": [
    "# Run this app with `python app.py` and\n",
    "# visit http://127.0.0.1:8050/ in your web browser.\n",
    "\n",
    "\n",
    "from dash import Dash, dcc, html\n",
    "import plotly.express as px\n",
    "import pandas as pd\n",
    "\n",
    "app = Dash()\n",
    "\n",
    "colors = {\n",
    "    'background': '#111111',\n",
    "    'text': '#7FDBFF'\n",
    "}\n",
    "\n",
    "# assume you have a \"long-form\" data frame\n",
    "# see https://plotly.com/python/px-arguments/ for more options\n",
    "df = pd.DataFrame({\n",
    "    \"Fruit\": [\"Apples\", \"Oranges\", \"Bananas\", \"Apples\", \"Oranges\", \"Bananas\"],\n",
    "    \"Amount\": [4, 1, 2, 2, 4, 5],\n",
    "    \"City\": [\"SF\", \"SF\", \"SF\", \"Montreal\", \"Montreal\", \"Montreal\"]\n",
    "})\n",
    "\n",
    "fig = px.bar(df, x=\"Fruit\", y=\"Amount\", color=\"City\", barmode=\"group\")\n",
    "\n",
    "fig.update_layout(\n",
    "    plot_bgcolor=colors['background'],      # Пространство внутри графика\n",
    "    paper_bgcolor=colors['background'],     # Пространство снаружи графика\n",
    "    font_color=colors['text']\n",
    ")\n",
    "\n",
    "app.layout = html.Div(style={'backgroundColor': colors['background']}, children=[\n",
    "    html.H1(\n",
    "        children='Hello Dash',\n",
    "        style={\n",
    "            'textAlign': 'center',\n",
    "            'color': colors['text']\n",
    "        }\n",
    "    ),\n",
    "\n",
    "    html.Div(children='Dash: A web application framework for your data.', style={\n",
    "        'textAlign': 'center',\n",
    "        'color': colors['text']\n",
    "    }),\n",
    "\n",
    "    dcc.Graph(\n",
    "        id='example-graph-2',\n",
    "        figure=fig\n",
    "    )\n",
    "])\n",
    "\n",
    "if __name__ == '__main__':\n",
    "    app.run(debug=True)"
   ]
  },
  {
   "cell_type": "markdown",
   "metadata": {},
   "source": [
    "В этом примере мы изменили встроенные стили компонентов `html.Div` и `html.H1` с помощью свойства `style`."
   ]
  },
  {
   "cell_type": "markdown",
   "metadata": {},
   "source": [
    "`html.H1('Hello Dash', style={'textAlign': 'center', 'color': '#7FDBFF'})`"
   ]
  },
  {
   "cell_type": "markdown",
   "metadata": {},
   "source": [
    "### **Компоненты многоразового использования (Reusable Components)**"
   ]
  },
  {
   "cell_type": "markdown",
   "metadata": {},
   "source": [
    "Написав нашу разметку на Python, мы можем создавать сложные повторно используемые компоненты, такие как таблицы, без переключения контекстов или языков.\n",
    "\n",
    "Вот краткий пример, который генерирует `таблицу` из фрейма данных Pandas. Создайте файл с именем `app.py` с помощью следующего кода:"
   ]
  },
  {
   "cell_type": "code",
   "execution_count": 21,
   "metadata": {},
   "outputs": [
    {
     "data": {
      "text/html": [
       "\n",
       "        <iframe\n",
       "            width=\"100%\"\n",
       "            height=\"650\"\n",
       "            src=\"http://127.0.0.1:8050/\"\n",
       "            frameborder=\"0\"\n",
       "            allowfullscreen\n",
       "            \n",
       "        ></iframe>\n",
       "        "
      ],
      "text/plain": [
       "<IPython.lib.display.IFrame at 0x19f0005c950>"
      ]
     },
     "metadata": {},
     "output_type": "display_data"
    }
   ],
   "source": [
    "# Run this app with `python app.py` and\n",
    "# visit http://127.0.0.1:8050/ in your web browser.\n",
    "\n",
    "\n",
    "from dash import Dash, html\n",
    "import pandas as pd\n",
    "\n",
    "df = pd.read_csv('https://gist.githubusercontent.com/chriddyp/c78bf172206ce24f77d6363a2d754b59/raw/c353e8ef842413cae56ae3920b8fd78468aa4cb2/usa-agricultural-exports-2011.csv')\n",
    "\n",
    "\n",
    "def generate_table(dataframe, max_rows=10):\n",
    "    return html.Table([\n",
    "        html.Thead(\n",
    "            html.Tr([html.Th(col) for col in dataframe.columns])\n",
    "        ),\n",
    "        html.Tbody([\n",
    "            html.Tr([\n",
    "                html.Td(dataframe.iloc[i][col]) for col in dataframe.columns\n",
    "            ]) for i in range(min(len(dataframe), max_rows))\n",
    "        ])\n",
    "    ])\n",
    "\n",
    "\n",
    "app = Dash()\n",
    "\n",
    "app.layout = html.Div([\n",
    "    html.H4(children='US Agriculture Exports (2011)'),\n",
    "    generate_table(df)\n",
    "], style={'backgroundColor': '#111111', 'color': '#7FDBFF'})\n",
    "\n",
    "if __name__ == '__main__':\n",
    "    app.run(debug=True)"
   ]
  },
  {
   "cell_type": "markdown",
   "metadata": {},
   "source": [
    "### **Подробнее о визуализации (More about Visualization)**"
   ]
  },
  {
   "cell_type": "markdown",
   "metadata": {},
   "source": [
    "Модуль компонентов ядра Dash (`dash.dcc`) включает в себя компонент под названием `Graph`.\n",
    "\n",
    "`Graph` визуализация интерактивных данных с использованием открытого исходного кода <span style=\"color:violet\">plotly.js</span> Библиотека построения графиков JavaScript. Plotly.js поддерживает более 35 типов диаграмм и визуализирует диаграммы как в формате SVG векторного качества, так и в высокопроизводительном WebGL.\n",
    "\n",
    "Аргумент `figure` в компоненте `Graph` - это тот же аргумент `figure`, который используется `plotly.py`, библиотекой построения графиков Python с открытым исходным кодом Plotly. Ознакомьтесь с <span style=\"color:violet\">документацией plotly.py и галереей</span>, чтобы узнать больше.\n",
    "\n",
    "Вот пример, который создает точечную диаграмму из фрейма данных Pandas. Создайте файл с именем app.py со следующим кодом:"
   ]
  },
  {
   "cell_type": "code",
   "execution_count": 23,
   "metadata": {},
   "outputs": [
    {
     "data": {
      "text/html": [
       "\n",
       "        <iframe\n",
       "            width=\"100%\"\n",
       "            height=\"650\"\n",
       "            src=\"http://127.0.0.1:8050/\"\n",
       "            frameborder=\"0\"\n",
       "            allowfullscreen\n",
       "            \n",
       "        ></iframe>\n",
       "        "
      ],
      "text/plain": [
       "<IPython.lib.display.IFrame at 0x19f0015e1b0>"
      ]
     },
     "metadata": {},
     "output_type": "display_data"
    }
   ],
   "source": [
    "# Run this app with `python app.py` and\n",
    "# visit http://127.0.0.1:8050/ in your web browser.\n",
    "\n",
    "from dash import Dash, dcc, html\n",
    "import plotly.express as px\n",
    "import pandas as pd\n",
    "\n",
    "\n",
    "app = Dash()\n",
    "\n",
    "df = pd.read_csv('https://gist.githubusercontent.com/chriddyp/5d1ea79569ed194d432e56108a04d188/raw/a9f9e8076b837d541398e999dcbac2b2826a81f8/gdp-life-exp-2007.csv')\n",
    "\n",
    "fig = px.scatter(df, x=\"gdp per capita\", y=\"life expectancy\",\n",
    "                 size=\"population\", color=\"continent\", hover_name=\"country\",\n",
    "                 log_x=True, size_max=60)\n",
    "\n",
    "app.layout = html.Div([\n",
    "    dcc.Graph(\n",
    "        id='life-exp-vs-gdp',\n",
    "        figure=fig\n",
    "    )\n",
    "])\n",
    "\n",
    "if __name__ == '__main__':\n",
    "    app.run(debug=True)"
   ]
  },
  {
   "cell_type": "markdown",
   "metadata": {},
   "source": [
    "Эти графики интерактивны и реагируют на запросы. *Наведите* указатель мыши на точки, чтобы увидеть их значения, *щелкните* элементы условных обозначений, чтобы переключать трассировки, *щелкните и перетащите*, чтобы увеличить масштаб, *удерживайте нажатой клавишу Shift*, а также щелкните и перетащите для панорамирования."
   ]
  },
  {
   "cell_type": "markdown",
   "metadata": {},
   "source": [
    "### **Markdown**"
   ]
  },
  {
   "cell_type": "markdown",
   "metadata": {},
   "source": [
    "В то время как Dash предоставляет доступ к HTML через HTML-компоненты Dash (`dash.html`), писать свою копию в HTML может быть утомительно. Для записи блоков текста можно использовать компонент `Markdown` в компонентах ядра Dash (`dash.dcc`). Создайте файл с именем `app.py` со следующим кодом:"
   ]
  },
  {
   "cell_type": "code",
   "execution_count": 30,
   "metadata": {},
   "outputs": [
    {
     "data": {
      "text/html": [
       "\n",
       "        <iframe\n",
       "            width=\"100%\"\n",
       "            height=\"650\"\n",
       "            src=\"http://127.0.0.1:8050/\"\n",
       "            frameborder=\"0\"\n",
       "            allowfullscreen\n",
       "            \n",
       "        ></iframe>\n",
       "        "
      ],
      "text/plain": [
       "<IPython.lib.display.IFrame at 0x19f00a751c0>"
      ]
     },
     "metadata": {},
     "output_type": "display_data"
    }
   ],
   "source": [
    "# Run this app with `python app.py` and\n",
    "# visit http://127.0.0.1:8050/ in your web browser.\n",
    "\n",
    "\n",
    "from dash import Dash, html, dcc\n",
    "\n",
    "app = Dash()\n",
    "\n",
    "markdown_text = '''\n",
    "### Dash and Markdown\n",
    "\n",
    "Dash apps can be written in Markdown.\n",
    "Dash uses the [CommonMark](http://commonmark.org/)\n",
    "specification of Markdown.\n",
    "Check out their [60 Second Markdown Tutorial](http://commonmark.org/help/)\n",
    "if this is your first introduction to Markdown!\n",
    "'''\n",
    "\n",
    "app.layout = html.Div([\n",
    "    dcc.Markdown(children=markdown_text, style={'backgroundColor': 'white', 'borderRadius': '3px'})\n",
    "])\n",
    "\n",
    "if __name__ == '__main__':\n",
    "    app.run(debug=False)"
   ]
  },
  {
   "cell_type": "markdown",
   "metadata": {},
   "source": [
    "### **Core Components (Основные компоненты)**"
   ]
  },
  {
   "cell_type": "markdown",
   "metadata": {},
   "source": [
    "Компоненты ядра Dash (`dash.dcc`) включают в себя набор компонентов более высокого уровня, таких как выпадающие списки, графики, блоки markdown и многое другое.\n",
    "\n",
    "Как и все компоненты Dash, они описаны полностью декларативно. Каждая настраиваемая опция доступна в качестве ключевого аргумента компонента.\n",
    "\n",
    "Мы рассмотрим многие из этих компонентов в этом руководстве. Вы можете просмотреть все доступные компоненты в обзоре основных компонентов Dash.\n",
    "\n",
    "Вот несколько доступных компонентов. Создайте файл с именем `app.py` с помощью следующего кода:"
   ]
  },
  {
   "cell_type": "code",
   "execution_count": 34,
   "metadata": {},
   "outputs": [
    {
     "data": {
      "text/html": [
       "\n",
       "        <iframe\n",
       "            width=\"100%\"\n",
       "            height=\"650\"\n",
       "            src=\"http://127.0.0.1:8050/\"\n",
       "            frameborder=\"0\"\n",
       "            allowfullscreen\n",
       "            \n",
       "        ></iframe>\n",
       "        "
      ],
      "text/plain": [
       "<IPython.lib.display.IFrame at 0x19f001500e0>"
      ]
     },
     "metadata": {},
     "output_type": "display_data"
    }
   ],
   "source": [
    "# Run this app with `python app.py` and\n",
    "# visit http://127.0.0.1:8050/ in your web browser.\n",
    "\n",
    "\n",
    "from dash import Dash, html, dcc\n",
    "\n",
    "app = Dash()\n",
    "\n",
    "app.layout = html.Div([\n",
    "    html.Div(children=[\n",
    "        html.Label('Dropdown'),\n",
    "        dcc.Dropdown(['New York City', 'Montréal', 'San Francisco'], 'Montréal'),\n",
    "\n",
    "        html.Br(),\n",
    "        html.Label('Multi-Select Dropdown'),\n",
    "        dcc.Dropdown(['New York City', 'Montréal', 'San Francisco'],\n",
    "                     ['Montréal', 'San Francisco'],\n",
    "                     multi=True),\n",
    "\n",
    "        html.Br(),\n",
    "        html.Label('Radio Items'),\n",
    "        dcc.RadioItems(['New York City', 'Montréal', 'San Francisco'], 'Montréal'),\n",
    "    ], style={'padding': 10, 'flex': 1}),\n",
    "\n",
    "    html.Div(children=[\n",
    "        html.Label('Checkboxes'),\n",
    "        dcc.Checklist(['New York City', 'Montréal', 'San Francisco'],\n",
    "                      ['Montréal', 'San Francisco']\n",
    "        ),\n",
    "\n",
    "        html.Br(),\n",
    "        html.Label('Text Input'),\n",
    "        html.Br(),\n",
    "        dcc.Input(value='MTL', type='text'),\n",
    "\n",
    "        html.Br(),\n",
    "        html.Label('Slider'),\n",
    "        dcc.Slider(\n",
    "            min=0,\n",
    "            max=9,\n",
    "            marks={i: f'Label {i}' if i == 1 else str(i) for i in range(1, 6)},\n",
    "            value=5,\n",
    "        ),\n",
    "    ], style={'padding': 10, 'flex': 1})\n",
    "], style={'display': 'flex', 'flexDirection': 'row', 'background': 'white'})\n",
    "\n",
    "if __name__ == '__main__':\n",
    "    app.run(debug=False)"
   ]
  },
  {
   "cell_type": "markdown",
   "metadata": {},
   "source": [
    "### **Help**"
   ]
  },
  {
   "cell_type": "markdown",
   "metadata": {},
   "source": [
    "Компоненты Dash являются декларативными: каждый настраиваемый аспект этих компонентов задается при создании экземпляра в качестве аргумента ключевого слова.\n",
    "\n",
    "Вызовите `help` в вашей консоли Python для любого из компонентов, чтобы узнать больше о компоненте и его доступных аргументах."
   ]
  },
  {
   "cell_type": "code",
   "execution_count": 35,
   "metadata": {},
   "outputs": [
    {
     "name": "stdout",
     "output_type": "stream",
     "text": [
      "Help on class Dropdown in module dash.dcc.Dropdown:\n",
      "\n",
      "class Dropdown(dash.development.base_component.Component)\n",
      " |  Dropdown(options=undefined, value=undefined, multi=undefined, clearable=undefined, searchable=undefined, search_value=undefined, placeholder=undefined, disabled=undefined, optionHeight=undefined, maxHeight=undefined, style=undefined, className=undefined, id=undefined, loading_state=undefined, persistence=undefined, persisted_props=undefined, persistence_type=undefined, **kwargs)\n",
      " |\n",
      " |  A Dropdown component.\n",
      " |  Dropdown is an interactive dropdown element for selecting one or more\n",
      " |  items.\n",
      " |  The values and labels of the dropdown items are specified in the `options`\n",
      " |  property and the selected item(s) are specified with the `value` property.\n",
      " |\n",
      " |  Use a dropdown when you have many options (more than 5) or when you are\n",
      " |  constrained for space. Otherwise, you can use RadioItems or a Checklist,\n",
      " |  which have the benefit of showing the users all of the items at once.\n",
      " |\n",
      " |  Keyword arguments:\n",
      " |\n",
      " |  - options (list of dicts; optional):\n",
      " |      An array of options {label: [string|number], value:\n",
      " |      [string|number]}, an optional disabled field can be used for each\n",
      " |      option.\n",
      " |\n",
      " |      `options` is a list of string | number | booleans | dict | list of\n",
      " |      dicts with keys:\n",
      " |\n",
      " |      - label (a list of or a singular dash component, string or number; required):\n",
      " |          The option's label.\n",
      " |\n",
      " |      - value (string | number | boolean; required):\n",
      " |          The value of the option. This value corresponds to the items\n",
      " |          specified in the `value` property.\n",
      " |\n",
      " |      - disabled (boolean; optional):\n",
      " |          If True, this option is disabled and cannot be selected.\n",
      " |\n",
      " |      - title (string; optional):\n",
      " |          The HTML 'title' attribute for the option. Allows for\n",
      " |          information on hover. For more information on this attribute,\n",
      " |          see\n",
      " |          https://developer.mozilla.org/en-US/docs/Web/HTML/Global_attributes/title.\n",
      " |\n",
      " |      - search (string; optional):\n",
      " |          Optional search value for the option, to use if the label is a\n",
      " |          component or provide a custom search value different from the\n",
      " |          label. If no search value and the label is a component, the\n",
      " |          `value` will be used for search.\n",
      " |\n",
      " |  - value (string | number | boolean | list of string | number | booleans; optional):\n",
      " |      The value of the input. If `multi` is False (the default) then\n",
      " |      value is just a string that corresponds to the values provided in\n",
      " |      the `options` property. If `multi` is True, then multiple values\n",
      " |      can be selected at once, and `value` is an array of items with\n",
      " |      values corresponding to those in the `options` prop.\n",
      " |\n",
      " |  - multi (boolean; default False):\n",
      " |      If True, the user can select multiple values.\n",
      " |\n",
      " |  - clearable (boolean; default True):\n",
      " |      Whether or not the dropdown is \"clearable\", that is, whether or\n",
      " |      not a small \"x\" appears on the right of the dropdown that\n",
      " |      removes the selected value.\n",
      " |\n",
      " |  - searchable (boolean; default True):\n",
      " |      Whether to enable the searching feature or not.\n",
      " |\n",
      " |  - search_value (string; optional):\n",
      " |      The value typed in the DropDown for searching.\n",
      " |\n",
      " |  - placeholder (string; optional):\n",
      " |      The grey, default text shown when no option is selected.\n",
      " |\n",
      " |  - disabled (boolean; default False):\n",
      " |      If True, this dropdown is disabled and the selection cannot be\n",
      " |      changed.\n",
      " |\n",
      " |  - optionHeight (number; default 35):\n",
      " |      height of each option. Can be increased when label lengths would\n",
      " |      wrap around.\n",
      " |\n",
      " |  - maxHeight (number; default 200):\n",
      " |      height of the options dropdown.\n",
      " |\n",
      " |  - style (dict; optional):\n",
      " |      Defines CSS styles which will override styles previously set.\n",
      " |\n",
      " |  - className (string; optional):\n",
      " |      className of the dropdown element.\n",
      " |\n",
      " |  - id (string; optional):\n",
      " |      The ID of this component, used to identify dash components in\n",
      " |      callbacks. The ID needs to be unique across all of the components\n",
      " |      in an app.\n",
      " |\n",
      " |  - loading_state (dict; optional):\n",
      " |      Object that holds the loading state object coming from\n",
      " |      dash-renderer.\n",
      " |\n",
      " |      `loading_state` is a dict with keys:\n",
      " |\n",
      " |      - is_loading (boolean; optional):\n",
      " |          Determines if the component is loading or not.\n",
      " |\n",
      " |      - prop_name (string; optional):\n",
      " |          Holds which property is loading.\n",
      " |\n",
      " |      - component_name (string; optional):\n",
      " |          Holds the name of the component that is loading.\n",
      " |\n",
      " |  - persistence (boolean | string | number; optional):\n",
      " |      Used to allow user interactions in this component to be persisted\n",
      " |      when the component - or the page - is refreshed. If `persisted` is\n",
      " |      truthy and hasn't changed from its previous value, a `value` that\n",
      " |      the user has changed while using the app will keep that change, as\n",
      " |      long as the new `value` also matches what was given originally.\n",
      " |      Used in conjunction with `persistence_type`.\n",
      " |\n",
      " |  - persisted_props (list of a value equal to: 'value's; default ['value']):\n",
      " |      Properties whose user interactions will persist after refreshing\n",
      " |      the component or the page. Since only `value` is allowed this prop\n",
      " |      can normally be ignored.\n",
      " |\n",
      " |  - persistence_type (a value equal to: 'local', 'session', 'memory'; default 'local'):\n",
      " |      Where persisted user changes will be stored: memory: only kept in\n",
      " |      memory, reset on page refresh. local: window.localStorage, data is\n",
      " |      kept after the browser quit. session: window.sessionStorage, data\n",
      " |      is cleared once the browser quit.\n",
      " |\n",
      " |  Method resolution order:\n",
      " |      Dropdown\n",
      " |      dash.development.base_component.Component\n",
      " |      builtins.object\n",
      " |\n",
      " |  Methods defined here:\n",
      " |\n",
      " |  __init__ = wrapper(self, options=undefined, value=undefined, multi=undefined, clearable=undefined, searchable=undefined, search_value=undefined, placeholder=undefined, disabled=undefined, optionHeight=undefined, maxHeight=undefined, style=undefined, className=undefined, id=undefined, loading_state=undefined, persistence=undefined, persisted_props=undefined, persistence_type=undefined, **kwargs) from dash.development.base_component._explicitize_args.<locals>\n",
      " |\n",
      " |  ----------------------------------------------------------------------\n",
      " |  Data and other attributes defined here:\n",
      " |\n",
      " |  __abstractmethods__ = frozenset()\n",
      " |\n",
      " |  ----------------------------------------------------------------------\n",
      " |  Methods inherited from dash.development.base_component.Component:\n",
      " |\n",
      " |  __delitem__(self, id)\n",
      " |      Delete items by ID in the tree of children.\n",
      " |\n",
      " |  __getitem__(self, id)\n",
      " |      Recursively find the element with the given ID through the tree of\n",
      " |      children.\n",
      " |\n",
      " |  __iter__(self)\n",
      " |      Yield IDs in the tree of children.\n",
      " |\n",
      " |  __len__(self)\n",
      " |      Return the number of items in the tree.\n",
      " |\n",
      " |  __repr__(self)\n",
      " |      Return repr(self).\n",
      " |\n",
      " |  __setitem__(self, id, item)\n",
      " |      Set an element by its ID.\n",
      " |\n",
      " |  to_plotly_json(self)\n",
      " |\n",
      " |  ----------------------------------------------------------------------\n",
      " |  Data descriptors inherited from dash.development.base_component.Component:\n",
      " |\n",
      " |  __dict__\n",
      " |      dictionary for instance variables\n",
      " |\n",
      " |  __weakref__\n",
      " |      list of weak references to the object\n",
      " |\n",
      " |  ----------------------------------------------------------------------\n",
      " |  Data and other attributes inherited from dash.development.base_component.Component:\n",
      " |\n",
      " |  REQUIRED = required\n",
      " |\n",
      " |  UNDEFINED = undefined\n",
      "\n"
     ]
    }
   ],
   "source": [
    "help(dcc.Dropdown)"
   ]
  },
  {
   "cell_type": "markdown",
   "metadata": {},
   "source": [
    "### **Summary**"
   ]
  },
  {
   "cell_type": "markdown",
   "metadata": {},
   "source": [
    "Макет приложения Dash описывает, как оно выглядит. Макет представляет собой иерархическое дерево компонентов или список компонентов (в Dash 2.17 и более поздних версиях).\n",
    "\n",
    "Компоненты Dash HTML (`dash.html`) предоставляют классы для всех тегов HTML, а аргументы ключевых слов описывают атрибуты HTML, такие как `style`, `class` и `id`. Компоненты ядра Dash (`dash.dcc`) генерируют компоненты более высокого уровня, такие как элементы управления и графики.\n",
    "\n",
    "В следующей части Основных принципов Dash рассказывается о том, как сделать эти приложения интерактивными. Dash Fundamentals Part 2: Basic Callbacks"
   ]
  },
  {
   "cell_type": "markdown",
   "metadata": {},
   "source": [
    "## **Part 2.** Basic Callbacks <br>\n",
    "**основные обратные вызовы**"
   ]
  },
  {
   "cell_type": "markdown",
   "metadata": {},
   "source": [
    "В предыдущей главе мы узнали, что `app.layout` описывает, как выглядит приложение, и представляет собой иерархическое дерево компонентов. Модуль Dash HTML Components (`dash.html`) предоставляет классы для всех тегов HTML, а аргументы ключевых слов описывают атрибуты HTML, такие как `style`, `className` и `id`. Модуль Dash Core Components (`dash.dcc`) генерирует компоненты более высокого уровня, такие как элементы управления и графики. \n",
    "\n",
    "В этой главе описывается, как создавать приложения Dash с использованием функций обратного вызова: функций, которые автоматически вызываются Dash всякий раз, когда изменяется свойство входного компонента, чтобы обновить какое-либо свойство в другом компоненте (вывод).\n",
    "\n",
    "Для оптимального взаимодействия с пользователем и повышения производительности загрузки диаграмм производственные приложения Dash должны учитывать возможности очереди заданий, HPC, Datashader и горизонтального масштабирования Dash Enterprise.\n",
    "\n",
    "Давайте начнем с простого примера интерактивного приложения Dash."
   ]
  },
  {
   "cell_type": "markdown",
   "metadata": {},
   "source": [
    "### Простое интерактивное приложение Dash"
   ]
  },
  {
   "cell_type": "code",
   "execution_count": 5,
   "metadata": {},
   "outputs": [
    {
     "data": {
      "text/html": [
       "\n",
       "        <iframe\n",
       "            width=\"100%\"\n",
       "            height=\"650\"\n",
       "            src=\"http://127.0.0.1:8050/\"\n",
       "            frameborder=\"0\"\n",
       "            allowfullscreen\n",
       "            \n",
       "        ></iframe>\n",
       "        "
      ],
      "text/plain": [
       "<IPython.lib.display.IFrame at 0x170acd776e0>"
      ]
     },
     "metadata": {},
     "output_type": "display_data"
    }
   ],
   "source": [
    "from dash import Dash, dcc, html, Input, Output, callback\n",
    "\n",
    "app = Dash()\n",
    "\n",
    "app.layout = html.Div([\n",
    "    html.H4(\"Change the value in the text box to see callbacks in action!\"),\n",
    "    html.Div([\n",
    "        \"Input: \",\n",
    "        dcc.Input(id='my-input', value='initial value', type='text')\n",
    "    ]),\n",
    "    html.Br(),\n",
    "    html.Div(id='my-output'),\n",
    "\n",
    "], style={'background': 'white', 'border-radius': '3px'})\n",
    "\n",
    "\n",
    "@callback(\n",
    "    Output(component_id='my-output', component_property='children'),\n",
    "    Input(component_id='my-input', component_property='value')\n",
    ")\n",
    "def update_output_div(input_value):\n",
    "    return f'Output: {input_value}'\n",
    "\n",
    "\n",
    "if __name__ == '__main__':\n",
    "    app.run(debug=False)"
   ]
  },
  {
   "cell_type": "markdown",
   "metadata": {},
   "source": [
    "```\n",
    "html.Div([\n",
    "        \"Input: \",\n",
    "        dcc.Input(id='my-input', value='initial value', type='text')\n",
    "    ]),\n",
    "    html.Br(),\n",
    "    html.Div(id='my-output'),\n",
    "```\n",
    "```\n",
    "@callback(\n",
    "    Output(component_id='my-output', component_property='children'),\n",
    "    Input(component_id='my-input', component_property='value')\n",
    ")\n",
    "def update_output_div(input_value):\n",
    "    return f'Output: {input_value}'\n",
    "```"
   ]
  },
  {
   "cell_type": "markdown",
   "metadata": {},
   "source": [
    "Давайте разберем этот пример:\n",
    "1. \"Входные данные\" и \"выходные данные\" нашего приложения описаны как аргументы декоратора `@callback`.\n",
    "2. В Dash входные и выходные данные нашего приложения - это просто свойства определенного компонента. В этом примере нашими входными данными являются свойства \"`value`\" компонента, который имеет идентификатор \"`my-input`\". Наш вывод - это свойство \"`children`\" компонента с идентификатором \"`my-output`\".\n",
    "3. Всякий раз, когда изменяется входное свойство, функция, которую оборачивает декоратор обратного вызова, вызывается автоматически. Dash предоставляет этой функции обратного вызова новое значение входного свойства в качестве аргумента, а Dash обновляет свойство выходного компонента тем, что было возвращено функцией.\n",
    "4. Ключевые слова `component_id` и `component_property` являются необязательными (для каждого из этих объектов есть только два аргумента). Они включены в этот пример для наглядности, но будут опущены в остальной документации ради краткости и удобочитаемости.\n",
    "5. Не путайте `dash.dependencies.Input object и dcc.Input object. Первый используется только в этих определениях обратного вызова, а второй является фактическим компонентом.\n",
    "6. Обратите внимание, что мы не устанавливаем значение для `children` свойства компонента `my-output` в макете. Когда приложение Dash запускается, оно автоматически вызывает все обратные вызовы с начальными значениями входных компонентов, чтобы заполнить начальное состояние выходных компонентов. В этом примере, если вы указали компонент div как `html.Div (id= 'my-output', children='Hello world')`, он будет перезаписан при запуске приложения.\n",
    "\n",
    "Это похоже на программирование в Microsoft Excel: всякий раз, когда изменяется ячейка (входные данные), все ячейки, которые зависят от этой ячейки (выходные данные), обновляются автоматически. Это называется \"Реактивным программированием\", потому что выходные данные автоматически реагируют на изменения во входных данных."
   ]
  },
  {
   "cell_type": "markdown",
   "metadata": {},
   "source": [
    "### Макет приложения Dash С Рисунком и Слайдером"
   ]
  },
  {
   "cell_type": "code",
   "execution_count": 6,
   "metadata": {},
   "outputs": [
    {
     "data": {
      "text/html": [
       "\n",
       "        <iframe\n",
       "            width=\"100%\"\n",
       "            height=\"650\"\n",
       "            src=\"http://127.0.0.1:8050/\"\n",
       "            frameborder=\"0\"\n",
       "            allowfullscreen\n",
       "            \n",
       "        ></iframe>\n",
       "        "
      ],
      "text/plain": [
       "<IPython.lib.display.IFrame at 0x170ccfb2600>"
      ]
     },
     "metadata": {},
     "output_type": "display_data"
    }
   ],
   "source": [
    "from dash import Dash, dcc, html, Input, Output, callback\n",
    "import plotly.express as px\n",
    "\n",
    "import pandas as pd\n",
    "\n",
    "df = pd.read_csv('https://raw.githubusercontent.com/plotly/datasets/master/gapminderDataFiveYear.csv')\n",
    "\n",
    "app = Dash()\n",
    "\n",
    "app.layout = html.Div([\n",
    "    dcc.Graph(id='graph-with-slider'),\n",
    "    dcc.Slider(\n",
    "        df['year'].min(),\n",
    "        df['year'].max(),\n",
    "        step=None,\n",
    "        value=df['year'].min(),\n",
    "        marks={str(year): str(year) for year in df['year'].unique()},\n",
    "        id='year-slider'\n",
    "    )\n",
    "])\n",
    "\n",
    "\n",
    "@callback(\n",
    "    Output('graph-with-slider', 'figure'),\n",
    "    Input('year-slider', 'value'))\n",
    "def update_figure(selected_year):\n",
    "    filtered_df = df[df.year == selected_year]\n",
    "\n",
    "    fig = px.scatter(filtered_df, x=\"gdpPercap\", y=\"lifeExp\",\n",
    "                     size=\"pop\", color=\"continent\", hover_name=\"country\",\n",
    "                     log_x=True, size_max=55)\n",
    "\n",
    "    fig.update_layout(transition_duration=500)\n",
    "\n",
    "    return fig\n",
    "\n",
    "\n",
    "if __name__ == '__main__':\n",
    "    app.run(debug=False)"
   ]
  },
  {
   "cell_type": "markdown",
   "metadata": {},
   "source": [
    "В этом примере свойство `\"value\"` `dcc.Slider` является входным сигналом приложения, а выходным сигналом приложения является свойство `\"figure\"` `dcc.Graph`. Всякий раз, когда значение dcc.Slider изменяется, Dash вызывает функцию обратного вызова `update_figure` с новым значением. Функция фильтрует фрейм данных с помощью этого нового значения, создает объект figure и возвращает его приложению Dash.\n",
    "\n",
    "В этом примере есть несколько приятных шаблонов:\n",
    "1. Мы используем библиотеку Pandas для загрузки нашего фрейма данных при запуске приложения: `df = pd.read_csv('...')`. Этот фрейм данных `df` находится в глобальном состоянии приложения и может быть прочитан внутри функций обратного вызова.\n",
    "2. Загрузка данных в память может быть дорогостоящей. Загружая данные запроса при запуске приложения, а не внутри функций обратного вызова, мы гарантируем, что эта операция выполняется только один раз - при запуске сервера приложений. Когда пользователь посещает приложение или взаимодействует с ним, эти данные (`df`) уже находятся в памяти. Если возможно, дорогостоящая инициализация (например, загрузка или запрос данных) должна выполняться в глобальной области приложения, а не в рамках функций обратного вызова.\n",
    "3. Обратный вызов не изменяет исходные данные, он только создает копии фрейма данных путем фильтрации с использованием pandas. Это важно: ваши обратные вызовы никогда не должны изменять переменные за пределами их области видимости. Если ваши обратные вызовы изменяют глобальное состояние, то сеанс одного пользователя может повлиять на сеанс следующего пользователя, и когда приложение развернуто в нескольких процессах или потоках, эти изменения не будут распространяться между сеансами.\n",
    "4. Мы включаем переходы с помощью `layout.transition`, чтобы дать представление о том, как меняется набор данных со временем: переходы позволяют диаграмме плавно переходить из одного состояния в другое, как если бы она была анимирована."
   ]
  },
  {
   "cell_type": "markdown",
   "metadata": {},
   "source": [
    "### Приложение Dash С несколькими входами (Dash App With Multiple Inputs)"
   ]
  },
  {
   "cell_type": "markdown",
   "metadata": {},
   "source": [
    "В Dash любой \"вывод\" может иметь несколько \"входных\" компонентов. Вот простой пример, который связывает пять входных данных (свойство value двух компонентов `dcc.Dropdown`, двух компонентов `dcc.RadioItems` и одного компонента `dcc.Slider`) с одним выходным компонентом (свойство `figure` компонента `dcc.Graph`). Обратите внимание, что app.callback выводит список всех пяти входных элементов после выходных."
   ]
  },
  {
   "cell_type": "code",
   "execution_count": null,
   "metadata": {},
   "outputs": [
    {
     "data": {
      "text/html": [
       "\n",
       "        <iframe\n",
       "            width=\"100%\"\n",
       "            height=\"650\"\n",
       "            src=\"http://127.0.0.1:8050/\"\n",
       "            frameborder=\"0\"\n",
       "            allowfullscreen\n",
       "            \n",
       "        ></iframe>\n",
       "        "
      ],
      "text/plain": [
       "<IPython.lib.display.IFrame at 0x170cd9bfb60>"
      ]
     },
     "metadata": {},
     "output_type": "display_data"
    }
   ],
   "source": [
    "from dash import Dash, dcc, html, Input, Output, callback\n",
    "import plotly.express as px\n",
    "\n",
    "import pandas as pd\n",
    "\n",
    "app = Dash()\n",
    "\n",
    "df = pd.read_csv('https://plotly.github.io/datasets/country_indicators.csv')\n",
    "\n",
    "app.layout = html.Div([\n",
    "    html.Div([\n",
    "\n",
    "        html.Div([\n",
    "            dcc.Dropdown(\n",
    "                df['Indicator Name'].unique(),\n",
    "                'Fertility rate, total (births per woman)',\n",
    "                id='xaxis-column'\n",
    "            ),\n",
    "            dcc.RadioItems(\n",
    "                ['Linear', 'Log'],\n",
    "                'Linear',\n",
    "                id='xaxis-type',\n",
    "                inline=True\n",
    "            )\n",
    "        ], style={'width': '48%', 'display': 'inline-block'}),\n",
    "\n",
    "        html.Div([\n",
    "            dcc.Dropdown(\n",
    "                df['Indicator Name'].unique(),\n",
    "                'Life expectancy at birth, total (years)',\n",
    "                id='yaxis-column'\n",
    "            ),\n",
    "            dcc.RadioItems(\n",
    "                ['Linear', 'Log'],\n",
    "                'Linear',\n",
    "                id='yaxis-type',\n",
    "                inline=True\n",
    "            )\n",
    "        ], style={'width': '48%', 'float': 'right', 'display': 'inline-block'})\n",
    "    ]),\n",
    "\n",
    "    dcc.Graph(id='indicator-graphic'),\n",
    "\n",
    "    dcc.Slider(\n",
    "        df['Year'].min(),\n",
    "        df['Year'].max(),\n",
    "        step=None,\n",
    "        id='year--slider',\n",
    "        value=df['Year'].max(),\n",
    "        marks={str(year): str(year) for year in df['Year'].unique()},\n",
    "    )\n",
    "], style={'background': '#F3E5F5', 'border-radius': '2px'})\n",
    "\n",
    "\n",
    "@callback(\n",
    "    Output('indicator-graphic', 'figure'),\n",
    "    Input('xaxis-column', 'value'),\n",
    "    Input('yaxis-column', 'value'),\n",
    "    Input('xaxis-type', 'value'),\n",
    "    Input('yaxis-type', 'value'),\n",
    "    Input('year--slider', 'value'))\n",
    "def update_graph(xaxis_column_name, yaxis_column_name,\n",
    "                 xaxis_type, yaxis_type,\n",
    "                 year_value):\n",
    "    dff = df[df['Year'] == year_value]\n",
    "\n",
    "    fig = px.scatter(x=dff[dff['Indicator Name'] == xaxis_column_name]['Value'],\n",
    "                     y=dff[dff['Indicator Name'] == yaxis_column_name]['Value'],\n",
    "                     hover_name=dff[dff['Indicator Name'] == yaxis_column_name]['Country Name'])\n",
    "\n",
    "    fig.update_layout(margin={'l': 40, 'b': 40, 't': 10, 'r': 0}, hovermode='closest')\n",
    "\n",
    "    fig.update_xaxes(title=xaxis_column_name,\n",
    "                     type='linear' if xaxis_type == 'Linear' else 'log')\n",
    "\n",
    "    fig.update_yaxes(title=yaxis_column_name,\n",
    "                     type='linear' if yaxis_type == 'Linear' else 'log')\n",
    "\n",
    "    return fig\n",
    "\n",
    "\n",
    "if __name__ == '__main__':\n",
    "    app.run(debug=False)"
   ]
  },
  {
   "cell_type": "markdown",
   "metadata": {},
   "source": [
    "В этом примере обратный вызов выполняется всякий раз, когда изменяется свойство value любого из компонентов `dcc.Dropdown`, `dcc.Slider` или `dcc.RadioItems`.\n",
    "\n",
    "Входные аргументы обратного вызова представляют собой текущее значение каждого из \"входных\" свойств в том порядке, в котором они были указаны.\n",
    "\n",
    "Несмотря на то, что одновременно изменяется только один входной сигнал (т. Е. Пользователь может изменить значение только одного выпадающего списка в данный момент), Dash собирает текущее состояние всех указанных входных свойств и передает их в функцию обратного вызова. Эти функции обратного вызова всегда гарантированно получают обновленное состояние приложения.\n",
    "\n",
    "Давайте расширим наш пример, включив в него несколько выходных данных."
   ]
  },
  {
   "cell_type": "markdown",
   "metadata": {},
   "source": [
    "### Приложение Dash С несколькими выходами (Dash App With Multiple Outputs)"
   ]
  },
  {
   "cell_type": "markdown",
   "metadata": {},
   "source": [
    "Пока что все обратные вызовы, которые мы написали, обновляют только одно выходное (`Output`) свойство. Мы также можем обновить несколько выходных данных одновременно: перечислить все свойства, которые вы хотите обновить в `app.callback`, и вернуть это количество элементов из обратного вызова. Это особенно полезно, если два выходных сигнала зависят от одного и того же промежуточного результата, требующего больших вычислительных затрат, такого как медленный запрос к базе данных."
   ]
  },
  {
   "cell_type": "code",
   "execution_count": 12,
   "metadata": {},
   "outputs": [
    {
     "data": {
      "text/html": [
       "\n",
       "        <iframe\n",
       "            width=\"100%\"\n",
       "            height=\"650\"\n",
       "            src=\"http://127.0.0.1:8050/\"\n",
       "            frameborder=\"0\"\n",
       "            allowfullscreen\n",
       "            \n",
       "        ></iframe>\n",
       "        "
      ],
      "text/plain": [
       "<IPython.lib.display.IFrame at 0x170cee5bbc0>"
      ]
     },
     "metadata": {},
     "output_type": "display_data"
    }
   ],
   "source": [
    "from dash import Dash, dcc, html, Input, Output, callback\n",
    "\n",
    "external_stylesheets = ['https://codepen.io/chriddyp/pen/bWLwgP.css']\n",
    "\n",
    "app = Dash(__name__, external_stylesheets=external_stylesheets)\n",
    "\n",
    "app.layout = html.Div([\n",
    "    dcc.Input(\n",
    "        id='num-multi',\n",
    "        type='number',\n",
    "        value=5\n",
    "    ),\n",
    "    html.Table([\n",
    "        html.Tr([html.Td(['x', html.Sup(2)]), html.Td(id='square')]),\n",
    "        html.Tr([html.Td(['x', html.Sup(3)]), html.Td(id='cube')]),\n",
    "        html.Tr([html.Td([2, html.Sup('x')]), html.Td(id='twos')]),\n",
    "        html.Tr([html.Td([3, html.Sup('x')]), html.Td(id='threes')]),\n",
    "        html.Tr([html.Td(['x', html.Sup('x')]), html.Td(id='x^x')]),\n",
    "    ]),\n",
    "], style={'background': '#F2E5F5'})\n",
    "\n",
    "\n",
    "@callback(\n",
    "    Output('square', 'children'),\n",
    "    Output('cube', 'children'),\n",
    "    Output('twos', 'children'),\n",
    "    Output('threes', 'children'),\n",
    "    Output('x^x', 'children'),\n",
    "    Input('num-multi', 'value'))\n",
    "def callback_a(x):\n",
    "    return x**2, x**3, 2**x, 3**x, x**x\n",
    "\n",
    "\n",
    "if __name__ == '__main__':\n",
    "    app.run(debug=False)"
   ]
  },
  {
   "cell_type": "markdown",
   "metadata": {},
   "source": [
    "Небольшое предостережение: комбинировать результаты не всегда хорошая идея, даже если вы можете:\n",
    "* Если выходные данные зависят от некоторых, но не всех, одних и тех же входных данных, то их разделение может избежать ненужных обновлений.\n",
    "* Если выходные данные имеют одинаковые входные данные, но они выполняют очень разные вычисления с этими входными данными, разделение обратных вызовов может позволить им выполняться параллельно."
   ]
  },
  {
   "cell_type": "markdown",
   "metadata": {},
   "source": [
    "### Приложение Dash С Цепочкой Обратных вызовов (Dash App With Chained Callbacks)"
   ]
  },
  {
   "cell_type": "markdown",
   "metadata": {},
   "source": [
    "Вы также можете связать выходные данные и входные данные вместе: выходные данные одной функции обратного вызова могут быть входными данными другой функции обратного вызова.\n",
    "\n",
    "Этот шаблон можно использовать для создания динамических пользовательских интерфейсов, где, например, один входной компонент обновляет доступные параметры другого входного компонента. Вот простой пример."
   ]
  },
  {
   "cell_type": "code",
   "execution_count": 13,
   "metadata": {},
   "outputs": [
    {
     "data": {
      "text/html": [
       "\n",
       "        <iframe\n",
       "            width=\"100%\"\n",
       "            height=\"650\"\n",
       "            src=\"http://127.0.0.1:8050/\"\n",
       "            frameborder=\"0\"\n",
       "            allowfullscreen\n",
       "            \n",
       "        ></iframe>\n",
       "        "
      ],
      "text/plain": [
       "<IPython.lib.display.IFrame at 0x170cef43230>"
      ]
     },
     "metadata": {},
     "output_type": "display_data"
    }
   ],
   "source": [
    "from dash import Dash, dcc, html, Input, Output, callback\n",
    "\n",
    "external_stylesheets = ['https://codepen.io/chriddyp/pen/bWLwgP.css']\n",
    "\n",
    "app = Dash(__name__, external_stylesheets=external_stylesheets)\n",
    "\n",
    "all_options = {\n",
    "    'America': ['New York City', 'San Francisco', 'Cincinnati'],\n",
    "    'Canada': ['Montréal', 'Toronto', 'Ottawa']\n",
    "}\n",
    "app.layout = html.Div([\n",
    "    dcc.RadioItems(\n",
    "        list(all_options.keys()),\n",
    "        'America',\n",
    "        id='countries-radio',\n",
    "    ),\n",
    "\n",
    "    html.Hr(),\n",
    "\n",
    "    dcc.RadioItems(id='cities-radio'),\n",
    "\n",
    "    html.Hr(),\n",
    "\n",
    "    html.Div(id='display-selected-values')\n",
    "], \n",
    "style={'background': '#F2E5F5'}\n",
    ")\n",
    "\n",
    "\n",
    "@callback(\n",
    "    Output('cities-radio', 'options'),\n",
    "    Input('countries-radio', 'value'))\n",
    "def set_cities_options(selected_country):\n",
    "    return [{'label': i, 'value': i} for i in all_options[selected_country]]\n",
    "\n",
    "\n",
    "@callback(\n",
    "    Output('cities-radio', 'value'),\n",
    "    Input('cities-radio', 'options'))\n",
    "def set_cities_value(available_options):\n",
    "    return available_options[0]['value']\n",
    "\n",
    "\n",
    "@callback(\n",
    "    Output('display-selected-values', 'children'),\n",
    "    Input('countries-radio', 'value'),\n",
    "    Input('cities-radio', 'value'))\n",
    "def set_display_children(selected_country, selected_city):\n",
    "    return f'{selected_city} is a city in {selected_country}'\n",
    "\n",
    "\n",
    "if __name__ == '__main__':\n",
    "    app.run(debug=False)"
   ]
  },
  {
   "cell_type": "markdown",
   "metadata": {},
   "source": [
    "Первый обратный вызов обновляет доступные параметры во втором компоненте `dcc.RadioItems` на основе выбранного значения в первом компоненте `dcc.RadioItems`.\n",
    "\n",
    "Второй обратный вызов устанавливает начальное значение при изменении свойства `options`: он устанавливает его равным первому значению в этом массиве `options`.\n",
    "\n",
    "В окончательном обратном вызове отображается выбранное значение каждого компонента. Если вы измените значение компонента `dcc.RadioItems` для стран, Dash будет ждать, пока значение компонента `cities` не будет обновлено, прежде чем вызывать окончательный обратный вызов. Это предотвращает вызов ваших обратных вызовов с несогласованным состоянием, например, с `\"America\"` и `\"Montréal\"`."
   ]
  },
  {
   "cell_type": "markdown",
   "metadata": {},
   "source": [
    "### Приложение Dash С состоянием (Dash App with State)"
   ]
  },
  {
   "cell_type": "markdown",
   "metadata": {},
   "source": [
    "В некоторых случаях в вашем приложении может быть шаблон, подобный \"форме\". В такой ситуации вы можете захотеть прочитать значение компонента ввода, но только тогда, когда пользователь закончит вводить всю свою информацию в форму, а не сразу после ее изменения.\n",
    "\n",
    "Прямое подключение обратного вызова к входным значениям может выглядеть следующим образом:"
   ]
  },
  {
   "cell_type": "code",
   "execution_count": 16,
   "metadata": {},
   "outputs": [
    {
     "data": {
      "text/html": [
       "\n",
       "        <iframe\n",
       "            width=\"100%\"\n",
       "            height=\"650\"\n",
       "            src=\"http://127.0.0.1:8050/\"\n",
       "            frameborder=\"0\"\n",
       "            allowfullscreen\n",
       "            \n",
       "        ></iframe>\n",
       "        "
      ],
      "text/plain": [
       "<IPython.lib.display.IFrame at 0x170cee5a690>"
      ]
     },
     "metadata": {},
     "output_type": "display_data"
    }
   ],
   "source": [
    "from dash import Dash, dcc, html, Input, Output, callback\n",
    "\n",
    "external_stylesheets = [\"https://codepen.io/chriddyp/pen/bWLwgP.css\"]\n",
    "\n",
    "app = Dash(__name__, external_stylesheets=external_stylesheets)\n",
    "\n",
    "app.layout = html.Div([\n",
    "    dcc.Input(id=\"input-1\", type=\"text\", value=\"Montréal\"),\n",
    "    dcc.Input(id=\"input-2\", type=\"text\", value=\"Canada\"),\n",
    "    html.Div(id=\"number-output\"),\n",
    "    html.Br(),\n",
    "    dcc.Markdown('''\n",
    "    В этом примере функция обратного вызова запускается всякий раз, когда изменяется какой-либо из атрибутов, \n",
    "                 описанных во входных данных. Попробуйте сами, введя данные во входные данные, указанные выше.\n",
    "    ''')\n",
    "], \n",
    "style={'background': '#F2E5F5'}\n",
    ")\n",
    "\n",
    "\n",
    "@callback(\n",
    "    Output(\"number-output\", \"children\"),\n",
    "    Input(\"input-1\", \"value\"),\n",
    "    Input(\"input-2\", \"value\"),\n",
    ")\n",
    "def update_output(input1, input2):\n",
    "    return f'Input 1 is \"{input1}\" and Input 2 is \"{input2}\"'\n",
    "\n",
    "\n",
    "if __name__ == \"__main__\":\n",
    "    app.run(debug=False)"
   ]
  },
  {
   "cell_type": "markdown",
   "metadata": {},
   "source": [
    "В этом примере функция обратного вызова запускается всякий раз, когда изменяется какой-либо из атрибутов, описанных во входных данных. Попробуйте сами, введя данные во входные данные, указанные выше.\n",
    "\n",
    "`State` позволяет передавать дополнительные значения без запуска обратных вызовов. Вот тот же пример, что и выше, но с двумя `dcc.Input` компонентами в качестве `State` и новый компонент кнопки в качестве `Input` данных."
   ]
  },
  {
   "cell_type": "code",
   "execution_count": 19,
   "metadata": {},
   "outputs": [
    {
     "data": {
      "text/html": [
       "\n",
       "        <iframe\n",
       "            width=\"100%\"\n",
       "            height=\"650\"\n",
       "            src=\"http://127.0.0.1:8050/\"\n",
       "            frameborder=\"0\"\n",
       "            allowfullscreen\n",
       "            \n",
       "        ></iframe>\n",
       "        "
      ],
      "text/plain": [
       "<IPython.lib.display.IFrame at 0x170cee688c0>"
      ]
     },
     "metadata": {},
     "output_type": "display_data"
    }
   ],
   "source": [
    "from dash import Dash, dcc, html, Input, Output, State, callback\n",
    "\n",
    "external_stylesheets = ['https://codepen.io/chriddyp/pen/bWLwgP.css']\n",
    "\n",
    "app = Dash(__name__, external_stylesheets=external_stylesheets)\n",
    "\n",
    "app.layout = html.Div([\n",
    "    dcc.Input(id='input-1-state', type='text', value='Montréal'),\n",
    "    dcc.Input(id='input-2-state', type='text', value='Canada'),\n",
    "    html.Button(id='submit-button-state', n_clicks=0, children='Submit'),\n",
    "    html.Div(id='output-state', style={'color': 'blue'})\n",
    "])\n",
    "\n",
    "\n",
    "@callback(Output('output-state', 'children'),\n",
    "              Input('submit-button-state', 'n_clicks'),\n",
    "              State('input-1-state', 'value'),\n",
    "              State('input-2-state', 'value'))\n",
    "def update_output(n_clicks, input1, input2):\n",
    "    return f'''\n",
    "        The Button has been pressed {n_clicks} times,\n",
    "        Input 1 is \"{input1}\",\n",
    "        and Input 2 is \"{input2}\"\n",
    "    '''\n",
    "\n",
    "\n",
    "if __name__ == '__main__':\n",
    "    app.run(debug=False)"
   ]
  },
  {
   "cell_type": "markdown",
   "metadata": {},
   "source": [
    "В этом примере изменение текста в dcc.Input поле не вызовут обратный вызов, но нажатие на кнопку вызовет. Текущие значения dcc.Input значения по-прежнему передаются в обратный вызов, даже если они не запускают саму функцию обратного вызова.\n",
    "\n",
    "Обратите внимание, что мы запускаем обратный вызов, прослушивая свойство `n_clicks` компонента `html.Button`. `n_clicks` - это свойство, которое увеличивается при каждом нажатии на компонент. Он доступен в каждом компоненте Dash HTML Components (`dash.html`), но наиболее полезен с кнопками."
   ]
  },
  {
   "cell_type": "markdown",
   "metadata": {},
   "source": [
    "### Передача компонентов в обратные вызовы вместо идентификаторов (Passing Components Into Callbacks Instead of IDs)"
   ]
  },
  {
   "cell_type": "markdown",
   "metadata": {},
   "source": [
    "При создании макетов приложений в предыдущих примерах мы присваивали идентификаторы компонентам внутри макета, а позже ссылались на них во входных и выходных данных обратного вызова.\n",
    "\n",
    "В первом примере есть компонент `dcc.Input` с `id` 'my-input' и `html.Div` с `id` 'my-output':\n",
    "```python\n",
    "app.layout = html.Div([\n",
    "    html.H6(\"Change the value in the text box to see callbacks in action!\"),\n",
    "    html.Div([\n",
    "        \"Input: \",\n",
    "        dcc.Input(id='my-input', value='initial value', type='text')\n",
    "    ]),\n",
    "    html.Br(),\n",
    "    html.Div(id='my-output'),\n",
    "\n",
    "@callback(\n",
    "    Output('my-output', 'children'),\n",
    "    Input('my-input', 'value')\n",
    ")\n",
    "def update_output_div(input_value):\n",
    "    return f'Output: {input_value}'\n",
    "```"
   ]
  },
  {
   "cell_type": "markdown",
   "metadata": {},
   "source": [
    "Вы также можете предоставлять компоненты непосредственно в качестве входных и выходных данных без добавления id или ссылки на него. Dash автоматически генерирует IDs для этих компонентов.\n",
    "\n",
    "Вот снова первый пример. Перед объявлением макета приложения мы создаем два компонента, присваивая каждому из них значение переменной. Затем мы ссылаемся на эти переменные в макете и передаем их непосредственно в качестве входных и выходных данных обратному вызову.\n",
    "```python\n",
    "from dash import Dash, dcc, html, Input, Output, callback\n",
    "\n",
    "app = Dash()\n",
    "\n",
    "my_input = dcc.Input(value='initial value', type='text')\n",
    "my_output = html.Div()\n",
    "\n",
    "app.layout = html.Div([\n",
    "    html.H6(\"Change the value in the text box to see callbacks in action!\"),\n",
    "    html.Div([\n",
    "        \"Input: \",\n",
    "        my_input\n",
    "    ]),\n",
    "    html.Br(),\n",
    "    my_output\n",
    "])\n",
    "\n",
    "\n",
    "@callback(\n",
    "    Output(my_output, 'children'),\n",
    "    Input(my_input, 'value')\n",
    ")\n",
    "def update_output_div(input_value):\n",
    "    return f'Output: {input_value}'\n",
    "\n",
    "\n",
    "if __name__ == '__main__':\n",
    "    app.run(debug=False)\n",
    "```\n",
    "\n",
    "В Python 3.8 и выше вы можете использовать оператор walrus для объявления переменных компонента в макете приложения:\n",
    "```Python\n",
    "app.layout = html.Div([\n",
    "    html.H6(\"Change the value in the text box to see callbacks in action!\"),\n",
    "    html.Div([\n",
    "        \"Input: \",\n",
    "        my_input := dcc.Input(value='initial value', type='text')\n",
    "    ]),\n",
    "    html.Br(),\n",
    "    my_output := html.Div(),\n",
    "])\n",
    "\n",
    "@callback(\n",
    "    Output(my_output, 'children'),\n",
    "    Input(my_input, 'value')\n",
    ")\n",
    "def update_output_div(input_value):\n",
    "    return f'Output: {input_value}'\n",
    "```"
   ]
  },
  {
   "cell_type": "markdown",
   "metadata": {},
   "source": [
    "## **Part 3.** Interactive Graphing and Crossfiltering"
   ]
  },
  {
   "cell_type": "markdown",
   "metadata": {},
   "source": [
    "Модуль Dash Core Components (```dash.dcc```) включает компонент Graph, называемый `dcc.Graph`.\n",
    "\n",
    "`dcc.Graph` визуализирует интерактивные данные с использованием открытого исходного кода plotly.js Библиотека построения графиков JavaScript. Plotly.js поддерживает более 35 типов диаграмм и визуализирует диаграммы как в формате SVG векторного качества, так и в высокопроизводительном WebGL.\n",
    "\n",
    "Аргумент `figure` в компоненте `dcc.Graph` - это тот же аргумент `figure`, который используется в `plotly.py`. Ознакомьтесь с документацией [plotly.py и галереей](https://plotly.com/python?_gl=1*6ib6yg*_gcl_au*NzkzMTUyMTU4LjE3MzY5MzU3MzY.*_ga*NzY4ODYzMTgwLjE3MzY5MzU3Mzc.*_ga_6G7EE0JNSC*MTc0MDMzNzgzMy42Ni4xLjE3NDAzMzc5NjkuMTQuMC4w), чтобы узнать больше.\n",
    "\n",
    "Как мы уже видели, компоненты Dash описываются набором атрибутов. Любой из этих атрибутов может быть обновлен функциями обратного вызова, но только подмножество этих атрибутов обновляется посредством взаимодействия с пользователем, например при вводе текста внутри `dcc.Input` компонент или щелкните опцию в раскрывающемся списке `dcc.Dropdown` component.\n",
    "\n",
    "Компонент `dcc.Graph` имеет четыре атрибута, которые могут изменяться при взаимодействии с пользователем: `hoverData`, `clickData`, `selectedData`, `relayoutData`. Эти свойства обновляются при наведении курсора мыши на точки, щелчке по точкам или выборе областей точек на графике."
   ]
  },
  {
   "cell_type": "markdown",
   "metadata": {},
   "source": [
    "#### Вот пример, который выводит эти атрибуты на экран."
   ]
  },
  {
   "cell_type": "code",
   "execution_count": 14,
   "metadata": {},
   "outputs": [
    {
     "data": {
      "text/html": [
       "\n",
       "        <iframe\n",
       "            width=\"100%\"\n",
       "            height=\"650\"\n",
       "            src=\"http://127.0.0.1:8050/\"\n",
       "            frameborder=\"0\"\n",
       "            allowfullscreen\n",
       "            \n",
       "        ></iframe>\n",
       "        "
      ],
      "text/plain": [
       "<IPython.lib.display.IFrame at 0x1e5ed392630>"
      ]
     },
     "metadata": {},
     "output_type": "display_data"
    }
   ],
   "source": [
    "from dash import Dash, dcc, html, Input, Output, callback\n",
    "\n",
    "import plotly.express as px\n",
    "\n",
    "import json\n",
    "import pandas as pd\n",
    "\n",
    "external_stylesheets = ['https://codepen.io/chriddyp/pen/bWLwgP.css']\n",
    "\n",
    "app = Dash(__name__, external_stylesheets=external_stylesheets)\n",
    "\n",
    "styles = {\n",
    "    'pre': {\n",
    "        'border': 'thin lightgrey solid',\n",
    "        'overflowX': 'scroll'\n",
    "    },\n",
    "    'row': {\n",
    "        'display': 'flex',\n",
    "        'flex-direction': 'row',\n",
    "        'justify-content': 'space-between',\n",
    "        'margin': '5px'\n",
    "    },\n",
    "    'column': {\n",
    "        'flex': '1',\n",
    "        'padding': '10px'\n",
    "    }\n",
    "}\n",
    "\n",
    "df = pd.DataFrame({\n",
    "    \"x\": [1,2,1,2],\n",
    "    \"y\": [1,2,3,4],\n",
    "    \"customdata\": [1,2,3,4],\n",
    "    \"fruit\": [\"apple\", \"apple\", \"orange\", \"orange\"]\n",
    "})\n",
    "\n",
    "fig = px.scatter(df, x=\"x\", y=\"y\", color=\"fruit\", custom_data=[\"customdata\"])\n",
    "\n",
    "fig.update_layout(clickmode='event+select')\n",
    "\n",
    "fig.update_traces(marker_size=20)\n",
    "\n",
    "app.layout = html.Div([\n",
    "    dcc.Graph(\n",
    "        id='basic-interactions',\n",
    "        figure=fig\n",
    "    ),\n",
    "\n",
    "    html.Div(style=styles['row'], children=[\n",
    "        html.Div(style=styles['column'], children=[\n",
    "            dcc.Markdown(\"\"\"\n",
    "                **Hover Data**\n",
    "\n",
    "                Mouse over values in the graph.\n",
    "            \"\"\"),\n",
    "            html.Pre(id='hover-data', style=styles['pre'])\n",
    "        ]),\n",
    "\n",
    "        html.Div(style=styles['column'], children=[\n",
    "            dcc.Markdown(\"\"\"\n",
    "                **Click Data**\n",
    "\n",
    "                Click on points in the graph.\n",
    "            \"\"\"),\n",
    "            html.Pre(id='click-data', style=styles['pre']),\n",
    "        ]),\n",
    "\n",
    "        html.Div(style=styles['column'], children=[\n",
    "            dcc.Markdown(\"\"\"\n",
    "                **Selection Data**\n",
    "\n",
    "                Choose the lasso or rectangle tool in the graph's menu\n",
    "                bar and then select points in the graph.\n",
    "\n",
    "                Note that if `layout.clickmode = 'event+select'`, selection data also\n",
    "                accumulates (or un-accumulates) selected data if you hold down the shift\n",
    "                button while clicking.\n",
    "            \"\"\"),\n",
    "            html.Pre(id='selected-data', style=styles['pre']),\n",
    "        ]),\n",
    "\n",
    "        html.Div(style=styles['column'], children=[\n",
    "            dcc.Markdown(\"\"\"\n",
    "                **Zoom and Relayout Data**\n",
    "\n",
    "                Click and drag on the graph to zoom or click on the zoom\n",
    "                buttons in the graph's menu bar.\n",
    "                Clicking on legend items will also fire\n",
    "                this event.\n",
    "            \"\"\"),\n",
    "            html.Pre(id='relayout-data', style=styles['pre']),\n",
    "        ])\n",
    "    ])\n",
    "], style={'background': 'white', 'border-radius': '3px'})\n",
    "\n",
    "\n",
    "@callback(\n",
    "    Output('hover-data', 'children'),\n",
    "    Input('basic-interactions', 'hoverData'))\n",
    "def display_hover_data(hoverData):\n",
    "    return json.dumps(hoverData, indent=2)\n",
    "\n",
    "\n",
    "@callback(\n",
    "    Output('click-data', 'children'),\n",
    "    Input('basic-interactions', 'clickData'))\n",
    "def display_click_data(clickData):\n",
    "    return json.dumps(clickData, indent=2)\n",
    "\n",
    "\n",
    "@callback(\n",
    "    Output('selected-data', 'children'),\n",
    "    Input('basic-interactions', 'selectedData'))\n",
    "def display_selected_data(selectedData):\n",
    "    return json.dumps(selectedData, indent=2)\n",
    "\n",
    "\n",
    "@callback(\n",
    "    Output('relayout-data', 'children'),\n",
    "    Input('basic-interactions', 'relayoutData'))\n",
    "def display_relayout_data(relayoutData):\n",
    "    return json.dumps(relayoutData, indent=2)\n",
    "\n",
    "\n",
    "if __name__ == '__main__':\n",
    "    app.run(debug=False)"
   ]
  },
  {
   "cell_type": "markdown",
   "metadata": {},
   "source": [
    "### Обновляйте графики при наведении курсора мыши"
   ]
  },
  {
   "cell_type": "markdown",
   "metadata": {},
   "source": [
    "Давайте обновим наш пример с мировыми индикаторами из предыдущей главы, обновив временные ряды при наведении курсора мыши на точки на нашем точечном графике."
   ]
  },
  {
   "cell_type": "code",
   "execution_count": 16,
   "metadata": {},
   "outputs": [
    {
     "data": {
      "text/html": [
       "\n",
       "        <iframe\n",
       "            width=\"100%\"\n",
       "            height=\"650\"\n",
       "            src=\"http://127.0.0.1:8050/\"\n",
       "            frameborder=\"0\"\n",
       "            allowfullscreen\n",
       "            \n",
       "        ></iframe>\n",
       "        "
      ],
      "text/plain": [
       "<IPython.lib.display.IFrame at 0x1e5ed260ef0>"
      ]
     },
     "metadata": {},
     "output_type": "display_data"
    }
   ],
   "source": [
    "from dash import Dash, html, dcc, Input, Output, callback\n",
    "import pandas as pd\n",
    "import plotly.express as px\n",
    "\n",
    "external_stylesheets = ['https://codepen.io/chriddyp/pen/bWLwgP.css']\n",
    "\n",
    "app = Dash(__name__, external_stylesheets=external_stylesheets)\n",
    "\n",
    "df = pd.read_csv('https://plotly.github.io/datasets/country_indicators.csv')\n",
    "\n",
    "\n",
    "app.layout = html.Div([\n",
    "    html.Div([\n",
    "\n",
    "        html.Div([\n",
    "            dcc.Dropdown(\n",
    "                df['Indicator Name'].unique(),\n",
    "                'Fertility rate, total (births per woman)',\n",
    "                id='crossfilter-xaxis-column',\n",
    "            ),\n",
    "            dcc.RadioItems(\n",
    "                ['Linear', 'Log'],\n",
    "                'Linear',\n",
    "                id='crossfilter-xaxis-type',\n",
    "                labelStyle={'display': 'inline-block', 'marginTop': '5px'}\n",
    "            )\n",
    "        ],\n",
    "        style={'width': '49%', 'display': 'inline-block'}),\n",
    "\n",
    "        html.Div([\n",
    "            dcc.Dropdown(\n",
    "                df['Indicator Name'].unique(),\n",
    "                'Life expectancy at birth, total (years)',\n",
    "                id='crossfilter-yaxis-column'\n",
    "            ),\n",
    "            dcc.RadioItems(\n",
    "                ['Linear', 'Log'],\n",
    "                'Linear',\n",
    "                id='crossfilter-yaxis-type',\n",
    "                labelStyle={'display': 'inline-block', 'marginTop': '5px'}\n",
    "            )\n",
    "        ], style={'width': '49%', 'float': 'right', 'display': 'inline-block'})\n",
    "    ], style={\n",
    "        'padding': '10px 5px'\n",
    "    }),\n",
    "\n",
    "    html.Div([\n",
    "        dcc.Graph(\n",
    "            id='crossfilter-indicator-scatter',\n",
    "            hoverData={'points': [{'customdata': 'Japan'}]}\n",
    "        )\n",
    "    ], style={'width': '49%', 'display': 'inline-block', 'padding': '0 20'}),\n",
    "    html.Div([\n",
    "        dcc.Graph(id='x-time-series'),\n",
    "        dcc.Graph(id='y-time-series'),\n",
    "    ], style={'display': 'inline-block', 'width': '49%'}),\n",
    "\n",
    "    html.Div(dcc.Slider(\n",
    "        df['Year'].min(),\n",
    "        df['Year'].max(),\n",
    "        step=None,\n",
    "        id='crossfilter-year--slider',\n",
    "        value=df['Year'].max(),\n",
    "        marks={str(year): str(year) for year in df['Year'].unique()}\n",
    "    ), style={'width': '49%', 'padding': '0px 20px 20px 20px'})\n",
    "], style={'background': 'white'})\n",
    "\n",
    "\n",
    "@callback(\n",
    "    Output('crossfilter-indicator-scatter', 'figure'),\n",
    "    Input('crossfilter-xaxis-column', 'value'),\n",
    "    Input('crossfilter-yaxis-column', 'value'),\n",
    "    Input('crossfilter-xaxis-type', 'value'),\n",
    "    Input('crossfilter-yaxis-type', 'value'),\n",
    "    Input('crossfilter-year--slider', 'value'))\n",
    "def update_graph(xaxis_column_name, yaxis_column_name,\n",
    "                 xaxis_type, yaxis_type,\n",
    "                 year_value):\n",
    "    dff = df[df['Year'] == year_value]\n",
    "\n",
    "    fig = px.scatter(x=dff[dff['Indicator Name'] == xaxis_column_name]['Value'],\n",
    "            y=dff[dff['Indicator Name'] == yaxis_column_name]['Value'],\n",
    "            hover_name=dff[dff['Indicator Name'] == yaxis_column_name]['Country Name']\n",
    "            )\n",
    "\n",
    "    fig.update_traces(customdata=dff[dff['Indicator Name'] == yaxis_column_name]['Country Name'])\n",
    "\n",
    "    fig.update_xaxes(title=xaxis_column_name, type='linear' if xaxis_type == 'Linear' else 'log')\n",
    "\n",
    "    fig.update_yaxes(title=yaxis_column_name, type='linear' if yaxis_type == 'Linear' else 'log')\n",
    "\n",
    "    fig.update_layout(margin={'l': 40, 'b': 40, 't': 10, 'r': 0}, hovermode='closest')\n",
    "\n",
    "    return fig\n",
    "\n",
    "\n",
    "def create_time_series(dff, axis_type, title):\n",
    "\n",
    "    fig = px.scatter(dff, x='Year', y='Value')\n",
    "\n",
    "    fig.update_traces(mode='lines+markers')\n",
    "\n",
    "    fig.update_xaxes(showgrid=False)\n",
    "\n",
    "    fig.update_yaxes(type='linear' if axis_type == 'Linear' else 'log')\n",
    "\n",
    "    fig.add_annotation(x=0, y=0.85, xanchor='left', yanchor='bottom',\n",
    "                       xref='paper', yref='paper', showarrow=False, align='left',\n",
    "                       text=title)\n",
    "\n",
    "    fig.update_layout(height=225, margin={'l': 20, 'b': 30, 'r': 10, 't': 10})\n",
    "\n",
    "    return fig\n",
    "\n",
    "\n",
    "@callback(\n",
    "    Output('x-time-series', 'figure'),\n",
    "    Input('crossfilter-indicator-scatter', 'hoverData'),\n",
    "    Input('crossfilter-xaxis-column', 'value'),\n",
    "    Input('crossfilter-xaxis-type', 'value'))\n",
    "def update_x_timeseries(hoverData, xaxis_column_name, axis_type):\n",
    "    country_name = hoverData['points'][0]['customdata']\n",
    "    dff = df[df['Country Name'] == country_name]\n",
    "    dff = dff[dff['Indicator Name'] == xaxis_column_name]\n",
    "    title = '<b>{}</b><br>{}'.format(country_name, xaxis_column_name)\n",
    "    return create_time_series(dff, axis_type, title)\n",
    "\n",
    "\n",
    "@callback(\n",
    "    Output('y-time-series', 'figure'),\n",
    "    Input('crossfilter-indicator-scatter', 'hoverData'),\n",
    "    Input('crossfilter-yaxis-column', 'value'),\n",
    "    Input('crossfilter-yaxis-type', 'value'))\n",
    "def update_y_timeseries(hoverData, yaxis_column_name, axis_type):\n",
    "    dff = df[df['Country Name'] == hoverData['points'][0]['customdata']]\n",
    "    dff = dff[dff['Indicator Name'] == yaxis_column_name]\n",
    "    return create_time_series(dff, axis_type, yaxis_column_name)\n",
    "\n",
    "\n",
    "if __name__ == '__main__':\n",
    "    app.run(debug=False)"
   ]
  },
  {
   "cell_type": "markdown",
   "metadata": {},
   "source": [
    "Попробуйте навести указатель мыши на точки на точечной диаграмме слева. Обратите внимание, как линейные графики справа обновляются в зависимости от точки, на которую вы наводите курсор."
   ]
  },
  {
   "cell_type": "markdown",
   "metadata": {},
   "source": [
    "### Универсальный Рецепт перекрестного фильтра"
   ]
  },
  {
   "cell_type": "markdown",
   "metadata": {},
   "source": [
    "Вот пример перекрестной фильтрации набора данных из шести столбцов. При выборе каждого точечного графика фильтруется базовый набор данных."
   ]
  },
  {
   "cell_type": "code",
   "execution_count": 17,
   "metadata": {},
   "outputs": [
    {
     "data": {
      "text/html": [
       "\n",
       "        <iframe\n",
       "            width=\"100%\"\n",
       "            height=\"650\"\n",
       "            src=\"http://127.0.0.1:8050/\"\n",
       "            frameborder=\"0\"\n",
       "            allowfullscreen\n",
       "            \n",
       "        ></iframe>\n",
       "        "
      ],
      "text/plain": [
       "<IPython.lib.display.IFrame at 0x1e5eb07f950>"
      ]
     },
     "metadata": {},
     "output_type": "display_data"
    }
   ],
   "source": [
    "from dash import Dash, dcc, html, Input, Output, callback\n",
    "import numpy as np\n",
    "import pandas as pd\n",
    "import plotly.express as px\n",
    "\n",
    "external_stylesheets = [\"https://codepen.io/chriddyp/pen/bWLwgP.css\"]\n",
    "\n",
    "app = Dash(__name__, external_stylesheets=external_stylesheets)\n",
    "\n",
    "# make a sample data frame with 6 columns\n",
    "np.random.seed(0)  # no-display\n",
    "df = pd.DataFrame({\"Col \" + str(i + 1): np.random.rand(30) for i in range(6)})\n",
    "\n",
    "app.layout = html.Div(\n",
    "    [\n",
    "        html.Div(\n",
    "            dcc.Graph(id=\"g1\", config={\"displayModeBar\": False}),\n",
    "            className=\"four columns\",\n",
    "        ),\n",
    "        html.Div(\n",
    "            dcc.Graph(id=\"g2\", config={\"displayModeBar\": False}),\n",
    "            className=\"four columns\",\n",
    "        ),\n",
    "        html.Div(\n",
    "            dcc.Graph(id=\"g3\", config={\"displayModeBar\": False}),\n",
    "            className=\"four columns\",\n",
    "        ),\n",
    "    ],\n",
    "    className=\"row\", style={'background': 'white'}\n",
    ")\n",
    "\n",
    "\n",
    "def get_figure(df, x_col, y_col, selectedpoints, selectedpoints_local):\n",
    "\n",
    "    if selectedpoints_local and selectedpoints_local[\"range\"]:\n",
    "        ranges = selectedpoints_local[\"range\"]\n",
    "        selection_bounds = {\n",
    "            \"x0\": ranges[\"x\"][0],\n",
    "            \"x1\": ranges[\"x\"][1],\n",
    "            \"y0\": ranges[\"y\"][0],\n",
    "            \"y1\": ranges[\"y\"][1],\n",
    "        }\n",
    "    else:\n",
    "        selection_bounds = {\n",
    "            \"x0\": np.min(df[x_col]),\n",
    "            \"x1\": np.max(df[x_col]),\n",
    "            \"y0\": np.min(df[y_col]),\n",
    "            \"y1\": np.max(df[y_col]),\n",
    "        }\n",
    "\n",
    "    # set which points are selected with the `selectedpoints` property\n",
    "    # and style those points with the `selected` and `unselected`\n",
    "    # attribute. see\n",
    "    # https://medium.com/@plotlygraphs/notes-from-the-latest-plotly-js-release-b035a5b43e21\n",
    "    # for an explanation\n",
    "    fig = px.scatter(df, x=df[x_col], y=df[y_col], text=df.index)\n",
    "\n",
    "    fig.update_traces(\n",
    "        selectedpoints=selectedpoints,\n",
    "        customdata=df.index,\n",
    "        mode=\"markers+text\",\n",
    "        marker={\"color\": \"rgba(0, 116, 217, 0.7)\", \"size\": 20},\n",
    "        unselected={\n",
    "            \"marker\": {\"opacity\": 0.3},\n",
    "            \"textfont\": {\"color\": \"rgba(0, 0, 0, 0)\"},\n",
    "        },\n",
    "    )\n",
    "\n",
    "    fig.update_layout(\n",
    "        margin={\"l\": 20, \"r\": 0, \"b\": 15, \"t\": 5},\n",
    "        dragmode=\"select\",\n",
    "        hovermode=False,\n",
    "        newselection_mode=\"gradual\",\n",
    "    )\n",
    "\n",
    "    fig.add_shape(\n",
    "        dict(\n",
    "            {\"type\": \"rect\", \"line\": {\"width\": 1, \"dash\": \"dot\", \"color\": \"darkgrey\"}},\n",
    "            **selection_bounds\n",
    "        )\n",
    "    )\n",
    "    return fig\n",
    "\n",
    "\n",
    "# this callback defines 3 figures\n",
    "# as a function of the intersection of their 3 selections\n",
    "@callback(\n",
    "    Output(\"g1\", \"figure\"),\n",
    "    Output(\"g2\", \"figure\"),\n",
    "    Output(\"g3\", \"figure\"),\n",
    "    Input(\"g1\", \"selectedData\"),\n",
    "    Input(\"g2\", \"selectedData\"),\n",
    "    Input(\"g3\", \"selectedData\"),\n",
    ")\n",
    "def callback(selection1, selection2, selection3):\n",
    "    selectedpoints = df.index\n",
    "    for selected_data in [selection1, selection2, selection3]:\n",
    "        if selected_data and selected_data[\"points\"]:\n",
    "            selectedpoints = np.intersect1d(\n",
    "                selectedpoints, [p[\"customdata\"] for p in selected_data[\"points\"]]\n",
    "            )\n",
    "\n",
    "    return [\n",
    "        get_figure(df, \"Col 1\", \"Col 2\", selectedpoints, selection1),\n",
    "        get_figure(df, \"Col 3\", \"Col 4\", selectedpoints, selection2),\n",
    "        get_figure(df, \"Col 5\", \"Col 6\", selectedpoints, selection3),\n",
    "    ]\n",
    "\n",
    "\n",
    "if __name__ == \"__main__\":\n",
    "    app.run(debug=True)\n"
   ]
  },
  {
   "cell_type": "markdown",
   "metadata": {},
   "source": [
    "При каждом выделении запускаются три обратных вызова графика с последними выбранными областями каждого графика. Фрейм данных pandas фильтруется на основе выбранных точек, и графики воспроизводятся повторно, при этом выбранные точки выделяются, а выбранная область рисуется в виде пунктирного прямоугольника."
   ]
  },
  {
   "cell_type": "markdown",
   "metadata": {},
   "source": [
    "### Текущие ограничения"
   ]
  },
  {
   "cell_type": "markdown",
   "metadata": {},
   "source": [
    "В настоящее время существует несколько ограничений во взаимодействии с графами.\n",
    "* В настоящее время невозможно настроить стиль взаимодействия при наведении курсора мыши или поле выбора. Эта проблема решается в https://github.com/plotly/plotly.js/issues/1847."
   ]
  },
  {
   "cell_type": "markdown",
   "metadata": {},
   "source": [
    "## **Part 4.** Sharing Data Between Callbacks (Обмен данными Между Обратными вызовами)"
   ]
  },
  {
   "cell_type": "markdown",
   "metadata": {},
   "source": [
    "Один из основных принципов Dash, описанных в Руководстве по началу работы с обратными вызовами, заключается в том, что обратные вызовы Dash никогда не должны изменять переменные за пределами своей области видимости. Изменять любые глобальные переменные небезопасно. В этой главе объясняется почему и приводятся некоторые альтернативные шаблоны для совместного использования состояния между обратными вызовами."
   ]
  },
  {
   "cell_type": "markdown",
   "metadata": {},
   "source": [
    "### Зачем делиться состоянием?"
   ]
  },
  {
   "cell_type": "markdown",
   "metadata": {},
   "source": [
    "В некоторых приложениях у вас может быть несколько обратных вызовов, которые зависят от дорогостоящих задач обработки данных, таких как выполнение запросов к базе данных, выполнение моделирования или загрузка данных.\n",
    "\n",
    "Вместо того, чтобы каждый обратный вызов выполнял одну и ту же дорогостоящую задачу, вы можете выполнить задачу одним обратным вызовом, а затем поделиться результатами с другими обратными вызовами.\n",
    "\n",
    "Один из способов добиться этого - иметь несколько выходных данных для одного обратного вызова: дорогостоящая задача может быть выполнена один раз и немедленно использована во всех выходных данных. Например, если необходимо запросить некоторые данные из базы данных, а затем отобразить их как в виде графика, так и в виде таблицы, то у вас может быть один обратный вызов, который вычисляет данные и создает выходные данные как графика, так и таблицы.\n",
    "\n",
    "Но иногда наличие нескольких выходных данных в одном обратном вызове не является хорошим решением. Например, предположим, что ваше приложение Dash позволяет пользователю выбрать дату и единицу измерения температуры (градусы Фаренгейта или Цельсия), а затем отображает температуру на этот день. У вас мог бы быть один обратный вызов, который выводит температуру, принимая как дату, так и единицу измерения температуры в качестве входных данных, но это означает, что если пользователь просто переключится с Фаренгейта на Цельсий, то данные о погоде придется загружать повторно, что может занять много времени. Вместо этого может быть более эффективным иметь два обратных вызова: один обратный вызов, который извлекает данные о погоде, и другой обратный вызов, который выводит температуру на основе загруженных данных. Таким образом, когда изменяется только единица измерения, данные не нужно загружать снова. Это пример совместного использования переменной или состояния между обратными вызовами."
   ]
  },
  {
   "cell_type": "markdown",
   "metadata": {},
   "source": [
    "### Dash не имеет состояния"
   ]
  },
  {
   "cell_type": "markdown",
   "metadata": {},
   "source": [
    "Dash был разработан как **платформа без сохранения состояния**.\n",
    "\n",
    "Платформы без сохранения состояния более масштабируемы и надежны, чем платформы с сохранением состояния. Большинство веб-сайтов, которые вы посещаете, работают на серверах без сохранения состояния.\n",
    "\n",
    "Они более масштабируемы, потому что тривиально увеличить вычислительную мощность приложения. Чтобы масштабировать приложение для обслуживания большего числа пользователей или выполнения большего количества вычислений, запускайте больше \"копий\" приложения в отдельных процессах.\n",
    "\n",
    "На производстве это можно сделать либо с помощью рабочей команды gunicorn:\n",
    "```bash\n",
    "gunicorn app:server --workers 8\n",
    "```\n",
    "или запустив приложение в нескольких контейнерах или серверах Docker и распределив нагрузку между ними.\n",
    "\n",
    "Фреймворки без состояния более надежны, потому что даже в случае сбоя одного процесса другие процессы могут продолжать обслуживать запросы. В Dash Enterprise Kubernetes эти контейнеры могут выполняться на отдельных серверах или даже в отдельных регионах, обеспечивая устойчивость к сбоям сервера.\n",
    "\n",
    "В среде без состояния пользовательские сеансы не сопоставляются 1-1 с серверными процессами. Каждый запрос обратного вызова может быть выполнен любым из доступных процессов. `gunicorn` проверит, какой процесс не занят выполнением обратного вызова, и отправит этому процессу новый запрос обратного вызова. Это означает, что несколько процессов могут балансировать запросы 10 или 100 одновременных пользователей до тех пор, пока эти запросы не выполняются в одно и то же время (обычно это не так!)."
   ]
  },
  {
   "cell_type": "markdown",
   "metadata": {},
   "source": [
    "### Почему глобальные переменные нарушат работу вашего приложения"
   ]
  },
  {
   "cell_type": "markdown",
   "metadata": {},
   "source": [
    "Dash предназначен для работы в многопользовательских средах, где несколько человек одновременно просматривают приложение и проводят **независимые сеансы**.\n",
    "\n",
    "Если ваше приложение использует и изменяет глобальную переменную, то сеанс одного пользователя может присвоить этой переменной некоторое значение, которое повлияет на сеанс следующего пользователя.\n",
    "\n",
    "Dash также разработан таким образом, чтобы иметь возможность работать с несколькими рабочими элементами, так что обратные вызовы могут выполняться параллельно.\n",
    "\n",
    "Обычно это делается с помощью `gunicorn`, используя такой синтаксис, как\n",
    "```bash\n",
    "$ gunicorn --workers 4 app:server\n",
    "```\n",
    "(`app` ссылается на файл с именем `app.py`, а `server` ссылается на переменную в этом файле с именем `server: server = app.server`)\n",
    "\n",
    "Когда приложения Dash работают с несколькими рабочими элементами, их память не используется совместно. Это означает, что если вы измените глобальную переменную в одном обратном вызове, это изменение не будет применено к другим рабочим элементам / процессам.\n",
    "\n",
    "-----------------\n",
    "Вот набросок приложения, которое не будет работать надежно, потому что обратный вызов изменяет глобальную переменную, которая находится за пределами его области видимости.\n",
    "\n",
    "```python\n",
    "df = pd.DataFrame({\n",
    "  'student_id' : range(1, 11),\n",
    "  'score' : [1, 5, 2, 5, 2, 3, 1, 5, 1, 5]\n",
    "})\n",
    "\n",
    "app.layout = html.Div([\n",
    "\tdcc.Dropdown(list(range(1, 6)), 1, id='score'),\n",
    "\t'was scored by this many students:',\n",
    "\thtml.Div(id='output'),\n",
    "])\n",
    "\n",
    "@callback(Output('output', 'children'), Input('score', 'value'))\n",
    "def update_output(value):\n",
    "\tglobal df\n",
    "\tdf = df[df['score'] == value]\n",
    "\treturn len(df)\n",
    "```\n",
    "Обратный вызов возвращает правильные выходные данные при самом первом вызове, но как только глобальная переменная `df` изменяется, любой последующий обратный вызов, использующий этот фрейм данных, больше не использует исходные данные."
   ]
  },
  {
   "cell_type": "markdown",
   "metadata": {},
   "source": [
    "Чтобы улучшить это приложение, переназначьте отфильтрованный фрейм данных на новую переменную внутри обратного вызова, как показано ниже, или следуйте одной из стратегий, описанных в следующих частях этого руководства.\n",
    "```python\n",
    "df = pd.DataFrame({\n",
    "  'student_id' : range(1, 11),\n",
    "  'score' : [1, 5, 2, 5, 2, 3, 1, 5, 1, 5]\n",
    "})\n",
    "\n",
    "app.layout = html.Div([\n",
    "    dcc.Dropdown(list(range(1, 6)), 1, id='score'),\n",
    "\t'was scored by this many students:',\n",
    "\thtml.Div(id='output'),\n",
    "])\n",
    "\n",
    "@callback(Output('output', 'children'), Input('score', 'value'))\n",
    "def update_output(value):\n",
    "\tfiltered_df = df[df['score'] == value]\n",
    "\treturn len(filtered_df)\n",
    "```"
   ]
  },
  {
   "cell_type": "markdown",
   "metadata": {},
   "source": [
    "### Хранение общих данных"
   ]
  },
  {
   "cell_type": "markdown",
   "metadata": {},
   "source": [
    "Чтобы безопасно обмениваться данными между несколькими процессами или серверами, нам необходимо хранить данные где-нибудь, доступном для каждого из процессов.\n",
    "\n",
    "Есть три места, где вы можете хранить эти данные:\n",
    "* В сеансе браузера пользователя с использованием `dcc.Store`\n",
    "\n",
    "* На диске (например, в файле или базе данных)\n",
    "\n",
    "* В серверной памяти (ОЗУ), совместно используемой процессами и серверами, такими как база данных Redis. Для этой цели Dash Enterprise включает встроенные базы данных Redis в один клик.\n",
    "\n",
    "Следующие примеры иллюстрируют некоторые из этих подходов."
   ]
  },
  {
   "cell_type": "markdown",
   "metadata": {},
   "source": [
    "#### Пример 1 - Сохранение данных в браузере с помощью dcc.Store"
   ]
  },
  {
   "cell_type": "markdown",
   "metadata": {},
   "source": [
    "Для сохранения данных в сеансе браузера пользователя:\n",
    "* Данные должны быть преобразованы в строку типа JSON или двоичные данные в кодировке base64 для хранения.\n",
    "* Данные, которые кэшируются таким образом, будут доступны только в текущем сеансе пользователя.\n",
    "  *  Если вы откроете новое окно браузера, обратные вызовы приложения всегда будут повторно вычислять данные. Данные кэшируются только между обратными вызовами в рамках одного сеанса.\n",
    "  * Этот метод не увеличивает объем памяти приложения.\n",
    "  * Сетевой трафик может быть дорогостоящим. Если вы разделяете 10 МБ данных между обратными вызовами, то эти данные будут передаваться по сети между каждым обратным вызовом.\n",
    "  * Если стоимость сети слишком высока, заранее рассчитайте агрегированные данные и перенесите их. Скорее всего, ваше приложение не будет отображать 10 МБ данных, оно будет отображать только их подмножество или агрегацию.\n",
    "\n",
    "Приведенный ниже пример показывает один из распространенных способов использования `dcc.Store`: если обработка набора данных занимает много времени и этот набор данных используется в разных выходных данных, `dcc.Store` можно использовать для хранения обработанных данных в виде промежуточного значения, которое затем можно использовать в качестве входных данных в нескольких обратных вызовах для генерации разных выходных данных. Таким образом, дорогостоящий этап обработки данных выполняется только один раз в одном обратном вызове вместо повторения одного и того же дорогостоящего вычисления несколько раз в каждом обратном вызове."
   ]
  },
  {
   "cell_type": "markdown",
   "metadata": {},
   "source": [
    "```python \n",
    "app.layout = html.Div([\n",
    "    dcc.Graph(id='graph'),\n",
    "    html.Table(id='table'),\n",
    "    dcc.Dropdown(id='dropdown'),\n",
    "\n",
    "    # dcc.Store stores the intermediate value\n",
    "    dcc.Store(id='intermediate-value')\n",
    "])\n",
    "\n",
    "@callback(Output('intermediate-value', 'data'), Input('dropdown', 'value'))\n",
    "def clean_data(value):\n",
    "     # some expensive data processing step\n",
    "     cleaned_df = slow_processing_step(value)\n",
    "\n",
    "     # more generally, this line would be\n",
    "     # json.dumps(cleaned_df)\n",
    "     return cleaned_df.to_json(date_format='iso', orient='split')\n",
    "\n",
    "@callback(Output('graph', 'figure'), Input('intermediate-value', 'data'))\n",
    "def update_graph(jsonified_cleaned_data):\n",
    "\n",
    "    # more generally, this line would be\n",
    "    # json.loads(jsonified_cleaned_data)\n",
    "    dff = pd.read_json(jsonified_cleaned_data, orient='split')\n",
    "\n",
    "    figure = create_figure(dff)\n",
    "    return figure\n",
    "\n",
    "@callback(Output('table', 'children'), Input('intermediate-value', 'data'))\n",
    "def update_table(jsonified_cleaned_data):\n",
    "    dff = pd.read_json(jsonified_cleaned_data, orient='split')\n",
    "    table = create_table(dff)\n",
    "    return table\n",
    "```"
   ]
  },
  {
   "cell_type": "markdown",
   "metadata": {},
   "source": [
    "Обратите внимание, что данные должны быть сериализованы в строку JSON перед помещением в хранилище. Также обратите внимание, как обработанные данные сохраняются в dcc.Store, назначая данные в качестве выходных данных, а затем одни и те же данные используются несколькими обратными вызовами, используя один и тот же dcc.Store в качестве входных данных."
   ]
  }
 ],
 "metadata": {
  "kernelspec": {
   "display_name": ".venv",
   "language": "python",
   "name": "python3"
  },
  "language_info": {
   "codemirror_mode": {
    "name": "ipython",
    "version": 3
   },
   "file_extension": ".py",
   "mimetype": "text/x-python",
   "name": "python",
   "nbconvert_exporter": "python",
   "pygments_lexer": "ipython3",
   "version": "3.12.6"
  }
 },
 "nbformat": 4,
 "nbformat_minor": 2
}
